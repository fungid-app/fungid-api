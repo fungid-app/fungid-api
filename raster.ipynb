{
 "cells": [
  {
   "cell_type": "code",
   "execution_count": 1,
   "id": "c8b626e1",
   "metadata": {},
   "outputs": [],
   "source": [
    "import rasterio\n",
    "from rasterio.fill import fillnodata\n",
    "from affine import Affine\n",
    "import pandas as pd\n",
    "import numpy as np\n",
    "import climatezones as cz \n",
    "%load_ext autoreload\n",
    "%autoreload 2"
   ]
  },
  {
   "cell_type": "code",
   "execution_count": 5,
   "id": "fb1a57f3",
   "metadata": {},
   "outputs": [],
   "source": [
    "points = pd.read_csv('tmp/points.csv')\n",
    "points = points[~points.long.isnull()]\n",
    "\n",
    "def convert_points(file, col, points):\n",
    "    raster = rasterio.open(file)\n",
    "    transformer = rasterio.transform.AffineTransformer(raster.transform)\n",
    "    band1 = raster.read(1)\n",
    "    points['x'], points['y'] = transformer.rowcol(points.long, points.lat)\n",
    "    fpoints = points[points.x <= raster.height]\n",
    "    fpoints[col] = band1[fpoints.x, fpoints.y]\n",
    "    return fpoints, raster, band1\n"
   ]
  },
  {
   "cell_type": "code",
   "execution_count": null,
   "id": "25538cb5",
   "metadata": {},
   "outputs": [],
   "source": [
    "file = 'dbs/geospatial/globalelu/World_ELU_2015.tif'\n",
    "col = 'elu'\n",
    "fpoints, raster, band = convert_points(file, col, points)\n",
    "fpoints[[\"gbifid\", col]].to_csv(\"dbs/globalelu.csv\", header=True, index=False)"
   ]
  },
  {
   "cell_type": "code",
   "execution_count": null,
   "id": "4b8292a7-4e5a-414b-b560-13c60df496c7",
   "metadata": {},
   "outputs": [],
   "source": [
    "beck = 'dbs/geospatial/Beck_KG_V1/Beck_KG_V1_present_0p0083.tif'\n",
    "kgpoints, kg, band = convert_points(beck, 'kg', points)\n",
    "kgpoints[[\"gbifid\", \"kg\"]].to_csv(\"dbs/beck-kg-v1.csv\", header=True, index=False)"
   ]
  },
  {
   "cell_type": "code",
   "execution_count": null,
   "id": "4ac0ee2a",
   "metadata": {},
   "outputs": [],
   "source": [
    "fpoints.loc[fpoints.elu == 0]"
   ]
  },
  {
   "cell_type": "code",
   "execution_count": null,
   "id": "c340dc3d-dee9-4995-8c89-1aa09425e264",
   "metadata": {},
   "outputs": [],
   "source": [
    "mask = raster.read_masks(1)"
   ]
  },
  {
   "cell_type": "code",
   "execution_count": null,
   "id": "fec37a8a-bc66-43d9-a21e-85e393dca275",
   "metadata": {},
   "outputs": [],
   "source": [
    "mask"
   ]
  },
  {
   "cell_type": "code",
   "execution_count": 13,
   "id": "b517ee45-6f89-494d-8a6f-77b6268416bd",
   "metadata": {},
   "outputs": [
    {
     "ename": "ValueError",
     "evalue": "An mask array is required",
     "output_type": "error",
     "traceback": [
      "\u001b[0;31m---------------------------------------------------------------------------\u001b[0m",
      "\u001b[0;31mValueError\u001b[0m                                Traceback (most recent call last)",
      "\u001b[0;32m/tmp/ipykernel_356215/1557771776.py\u001b[0m in \u001b[0;36m<module>\u001b[0;34m\u001b[0m\n\u001b[1;32m      1\u001b[0m \u001b[0mmask\u001b[0m \u001b[0;34m=\u001b[0m \u001b[0mraster\u001b[0m \u001b[0;34m!=\u001b[0m \u001b[0;36m0\u001b[0m\u001b[0;34m\u001b[0m\u001b[0;34m\u001b[0m\u001b[0m\n\u001b[0;32m----> 2\u001b[0;31m \u001b[0mresult\u001b[0m \u001b[0;34m=\u001b[0m \u001b[0mfillnodata\u001b[0m\u001b[0;34m(\u001b[0m\u001b[0mraster\u001b[0m\u001b[0;34m,\u001b[0m \u001b[0mmask\u001b[0m\u001b[0;34m)\u001b[0m\u001b[0;34m\u001b[0m\u001b[0;34m\u001b[0m\u001b[0m\n\u001b[0m",
      "\u001b[0;32m~/.local/lib/python3.10/site-packages/rasterio/env.py\u001b[0m in \u001b[0;36mwrapper\u001b[0;34m(*args, **kwds)\u001b[0m\n\u001b[1;32m    389\u001b[0m         \u001b[0;32melse\u001b[0m\u001b[0;34m:\u001b[0m\u001b[0;34m\u001b[0m\u001b[0;34m\u001b[0m\u001b[0m\n\u001b[1;32m    390\u001b[0m             \u001b[0;32mwith\u001b[0m \u001b[0mEnv\u001b[0m\u001b[0;34m.\u001b[0m\u001b[0mfrom_defaults\u001b[0m\u001b[0;34m(\u001b[0m\u001b[0;34m)\u001b[0m\u001b[0;34m:\u001b[0m\u001b[0;34m\u001b[0m\u001b[0;34m\u001b[0m\u001b[0m\n\u001b[0;32m--> 391\u001b[0;31m                 \u001b[0;32mreturn\u001b[0m \u001b[0mf\u001b[0m\u001b[0;34m(\u001b[0m\u001b[0;34m*\u001b[0m\u001b[0margs\u001b[0m\u001b[0;34m,\u001b[0m \u001b[0;34m**\u001b[0m\u001b[0mkwds\u001b[0m\u001b[0;34m)\u001b[0m\u001b[0;34m\u001b[0m\u001b[0;34m\u001b[0m\u001b[0m\n\u001b[0m\u001b[1;32m    392\u001b[0m     \u001b[0;32mreturn\u001b[0m \u001b[0mwrapper\u001b[0m\u001b[0;34m\u001b[0m\u001b[0;34m\u001b[0m\u001b[0m\n\u001b[1;32m    393\u001b[0m \u001b[0;34m\u001b[0m\u001b[0m\n",
      "\u001b[0;32m~/.local/lib/python3.10/site-packages/rasterio/fill.py\u001b[0m in \u001b[0;36mfillnodata\u001b[0;34m(image, mask, max_search_distance, smoothing_iterations)\u001b[0m\n\u001b[1;32m     62\u001b[0m         \u001b[0mmask\u001b[0m \u001b[0;34m=\u001b[0m \u001b[0;34m~\u001b[0m\u001b[0mimage\u001b[0m\u001b[0;34m.\u001b[0m\u001b[0mmask\u001b[0m\u001b[0;34m\u001b[0m\u001b[0;34m\u001b[0m\u001b[0m\n\u001b[1;32m     63\u001b[0m     \u001b[0;32mif\u001b[0m \u001b[0;32mnot\u001b[0m \u001b[0mdtypes\u001b[0m\u001b[0;34m.\u001b[0m\u001b[0mis_ndarray\u001b[0m\u001b[0;34m(\u001b[0m\u001b[0mmask\u001b[0m\u001b[0;34m)\u001b[0m\u001b[0;34m:\u001b[0m\u001b[0;34m\u001b[0m\u001b[0;34m\u001b[0m\u001b[0m\n\u001b[0;32m---> 64\u001b[0;31m         \u001b[0;32mraise\u001b[0m \u001b[0mValueError\u001b[0m\u001b[0;34m(\u001b[0m\u001b[0;34m\"An mask array is required\"\u001b[0m\u001b[0;34m)\u001b[0m\u001b[0;34m\u001b[0m\u001b[0;34m\u001b[0m\u001b[0m\n\u001b[0m\u001b[1;32m     65\u001b[0m \u001b[0;34m\u001b[0m\u001b[0m\n\u001b[1;32m     66\u001b[0m     \u001b[0;32mif\u001b[0m \u001b[0misinstance\u001b[0m\u001b[0;34m(\u001b[0m\u001b[0mimage\u001b[0m\u001b[0;34m,\u001b[0m \u001b[0mMaskedArray\u001b[0m\u001b[0;34m)\u001b[0m\u001b[0;34m:\u001b[0m\u001b[0;34m\u001b[0m\u001b[0;34m\u001b[0m\u001b[0m\n",
      "\u001b[0;31mValueError\u001b[0m: An mask array is required"
     ]
    }
   ],
   "source": [
    "zero_mask = mask != 0\n",
    "result = fillnodata(raster, mask)"
   ]
  },
  {
   "cell_type": "code",
   "execution_count": null,
   "id": "adabe390",
   "metadata": {},
   "outputs": [],
   "source": []
  },
  {
   "cell_type": "code",
   "execution_count": null,
   "id": "fa307c94-8422-449b-aae7-c28f1022a565",
   "metadata": {},
   "outputs": [],
   "source": [
    "fpoints.groupby(by=\"elu\").count()"
   ]
  },
  {
   "cell_type": "code",
   "execution_count": null,
   "id": "7d3c9257",
   "metadata": {},
   "outputs": [],
   "source": []
  }
 ],
 "metadata": {
  "kernelspec": {
   "display_name": "Python 3 (ipykernel)",
   "language": "python",
   "name": "python3"
  },
  "language_info": {
   "codemirror_mode": {
    "name": "ipython",
    "version": 3
   },
   "file_extension": ".py",
   "mimetype": "text/x-python",
   "name": "python",
   "nbconvert_exporter": "python",
   "pygments_lexer": "ipython3",
   "version": "3.10.4"
  }
 },
 "nbformat": 4,
 "nbformat_minor": 5
}
