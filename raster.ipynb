{
 "cells": [
  {
   "cell_type": "code",
   "execution_count": 39,
   "id": "6e6163f6",
   "metadata": {},
   "outputs": [
    {
     "name": "stdout",
     "output_type": "stream",
     "text": [
      "The autoreload extension is already loaded. To reload it, use:\n",
      "  %reload_ext autoreload\n"
     ]
    }
   ],
   "source": [
    "import rasterio\n",
    "from rasterio.fill import fillnodata\n",
    "from affine import Affine\n",
    "import pandas as pd\n",
    "import numpy as np\n",
    "import math\n",
    "from functools import partial\n",
    "import climatezones as cz \n",
    "%load_ext autoreload\n",
    "%autoreload 2"
   ]
  },
  {
   "cell_type": "code",
   "execution_count": 2,
   "id": "1f4694d0",
   "metadata": {},
   "outputs": [],
   "source": [
    "points = pd.read_csv('tmp/points.csv')\n",
    "points = points[~points.long.isnull()]\n",
    "\n",
    "def convert_points(file, col, points):\n",
    "    raster = rasterio.open(file)\n",
    "    transformer = rasterio.transform.AffineTransformer(raster.transform)\n",
    "    band1 = raster.read(1)\n",
    "    points['x'], points['y'] = transformer.rowcol(points.long, points.lat)\n",
    "    fpoints = points[points.x <= raster.height].copy()\n",
    "    fpoints[col] = band1[fpoints.x, fpoints.y]\n",
    "    return fpoints, raster, band1\n"
   ]
  },
  {
   "cell_type": "code",
   "execution_count": 61,
   "id": "249c9e7f",
   "metadata": {},
   "outputs": [],
   "source": [
    "def find_val(point, depth, band):\n",
    "    local = band[int(point[0])-depth:int(point[0])+depth,int(point[1])-depth:int(point[1])+depth]\n",
    "    bins = np.bincount(local.flatten())\n",
    "    if(len(bins) > 0):\n",
    "        bins[0] = 0\n",
    "        return bins.argmax()\n",
    "    else:\n",
    "        return 0\n",
    "    \n",
    "def fill_zeros(points, col, band):\n",
    "    depth = 1\n",
    "    while (points[col] == 0).any(): \n",
    "        print(\"depth: \", depth)\n",
    "        print(\"zeros: \", (points[col] == 0).sum())\n",
    "        temp_find = partial(find_val, depth=depth, band=band)\n",
    "        points.loc[points[col] == 0, col] = points.loc[points[col] == 0, ['x', 'y']].apply(temp_find, axis=1)\n",
    "        depth = math.ceil(depth * 1.25)\n",
    "        if not (points[col] == 0).any():\n",
    "            break\n",
    "        "
   ]
  },
  {
   "cell_type": "code",
   "execution_count": 44,
   "id": "0a4af18b",
   "metadata": {},
   "outputs": [],
   "source": [
    "file = 'dbs/geospatial/globalelu/World_ELU_2015.tif'\n",
    "col = 'elu'\n",
    "gpoints, graster, gband = convert_points(file, col, points)\n",
    "fill_zeros(gpoints, col, gband)\n",
    "gpoints[[\"gbifid\", col]].to_csv(\"dbs/globalelu.csv\", header=True, index=False)"
   ]
  },
  {
   "cell_type": "code",
   "execution_count": 62,
   "id": "5539ad90",
   "metadata": {},
   "outputs": [
    {
     "name": "stdout",
     "output_type": "stream",
     "text": [
      "depth:  1\n",
      "zeros:  479806\n",
      "depth:  2\n",
      "zeros:  269680\n",
      "depth:  3\n",
      "zeros:  121228\n",
      "depth:  4\n",
      "zeros:  71655\n",
      "depth:  5\n",
      "zeros:  42782\n",
      "depth:  7\n",
      "zeros:  23255\n",
      "depth:  9\n",
      "zeros:  10527\n",
      "depth:  12\n",
      "zeros:  7449\n",
      "depth:  15\n",
      "zeros:  6080\n",
      "depth:  19\n",
      "zeros:  5665\n",
      "depth:  24\n",
      "zeros:  5342\n",
      "depth:  30\n",
      "zeros:  5074\n",
      "depth:  38\n",
      "zeros:  4798\n",
      "depth:  48\n",
      "zeros:  4183\n",
      "depth:  60\n",
      "zeros:  3686\n",
      "depth:  75\n",
      "zeros:  3553\n",
      "depth:  94\n",
      "zeros:  3452\n",
      "depth:  118\n",
      "zeros:  3207\n",
      "depth:  148\n",
      "zeros:  3124\n",
      "depth:  185\n",
      "zeros:  3112\n",
      "depth:  232\n",
      "zeros:  2760\n",
      "depth:  290\n",
      "zeros:  2637\n",
      "depth:  363\n",
      "zeros:  2602\n",
      "depth:  454\n",
      "zeros:  2373\n",
      "depth:  568\n",
      "zeros:  2123\n",
      "depth:  710\n",
      "zeros:  388\n",
      "depth:  888\n",
      "zeros:  19\n",
      "depth:  1110\n",
      "zeros:  16\n",
      "depth:  1388\n",
      "zeros:  10\n",
      "depth:  1735\n",
      "zeros:  3\n",
      "depth:  2169\n",
      "zeros:  1\n"
     ]
    }
   ],
   "source": [
    "beck = 'dbs/geospatial/Beck_KG_V1/Beck_KG_V1_present_0p0083.tif'\n",
    "col = 'kg'\n",
    "kpoints, kraster, kband = convert_points(beck, col, points)\n",
    "fill_zeros(kpoints, col, kband)\n",
    "kpoints[[\"gbifid\", col]].to_csv(\"dbs/beck-kg-v1.csv\", header=True, index=False)"
   ]
  },
  {
   "cell_type": "code",
   "execution_count": 58,
   "id": "8298ac93",
   "metadata": {},
   "outputs": [
    {
     "data": {
      "text/plain": [
       "6458"
      ]
     },
     "execution_count": 58,
     "metadata": {},
     "output_type": "execute_result"
    }
   ],
   "source": [
    "(fpoints[col] == 0).sum()"
   ]
  },
  {
   "cell_type": "code",
   "execution_count": null,
   "id": "a6a19193",
   "metadata": {},
   "outputs": [],
   "source": [
    "(zeros.local.apply(lambda x: ).sum()"
   ]
  },
  {
   "cell_type": "code",
   "execution_count": null,
   "id": "8c54eee5",
   "metadata": {},
   "outputs": [],
   "source": [
    "mask = raster.read_masks(1)\n",
    "result = fillnodata(band, mask, max_search_distance=500)"
   ]
  },
  {
   "cell_type": "code",
   "execution_count": null,
   "id": "97a299cb",
   "metadata": {},
   "outputs": [],
   "source": [
    "newfile = 'dbs/geospatial/globalelu/World_ELU_2015_filled.tif'\n",
    "\n",
    "with rasterio.open(newfile, 'w', **profile) as dest:\n",
    "    dest.write_band(1, result)"
   ]
  },
  {
   "cell_type": "code",
   "execution_count": null,
   "id": "a92d5642",
   "metadata": {},
   "outputs": [],
   "source": [
    "fpoints.groupby(by=\"elu\").count()"
   ]
  },
  {
   "cell_type": "code",
   "execution_count": null,
   "id": "f89999c4",
   "metadata": {},
   "outputs": [],
   "source": []
  }
 ],
 "metadata": {
  "kernelspec": {
   "display_name": "Python 3 (ipykernel)",
   "language": "python",
   "name": "python3"
  },
  "language_info": {
   "codemirror_mode": {
    "name": "ipython",
    "version": 3
   },
   "file_extension": ".py",
   "mimetype": "text/x-python",
   "name": "python",
   "nbconvert_exporter": "python",
   "pygments_lexer": "ipython3",
   "version": "3.9.12"
  }
 },
 "nbformat": 4,
 "nbformat_minor": 5
}
