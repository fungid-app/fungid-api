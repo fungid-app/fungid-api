{
 "cells": [
  {
   "cell_type": "code",
   "execution_count": null,
   "id": "ed4628f5",
   "metadata": {},
   "outputs": [],
   "source": [
    "\n",
    "#hide\n",
    "! [ -e /content ] && pip install -Uqq fastbook\n",
    "import fastbook\n",
    "fastbook.setup_book()"
   ]
  },
  {
   "cell_type": "code",
   "execution_count": null,
   "id": "dbb452de",
   "metadata": {},
   "outputs": [],
   "source": [
    "#hide\n",
    "from fastai.vision.all import *\n",
    "from fastbook import *\n",
    "\n",
    "from fastai.vision.widgets import *\n",
    "matplotlib.rc('image', cmap='Greys')"
   ]
  },
  {
   "cell_type": "code",
   "execution_count": null,
   "id": "53433b71",
   "metadata": {},
   "outputs": [],
   "source": [
    "path = Path('dbs/images/categorized/')\n",
    "fns = get_image_files(path)"
   ]
  },
  {
   "cell_type": "code",
   "execution_count": null,
   "id": "c8d192e6",
   "metadata": {},
   "outputs": [],
   "source": [
    "failed = verify_images(fns)\n",
    "failed"
   ]
  },
  {
   "cell_type": "code",
   "execution_count": null,
   "id": "d2965196",
   "metadata": {},
   "outputs": [],
   "source": [
    "mush = DataBlock(\n",
    "    blocks=(ImageBlock, CategoryBlock), \n",
    "    get_items=get_image_files, \n",
    "    splitter=RandomSplitter(valid_pct=0.2, seed=42),\n",
    "    get_y=parent_label,\n",
    "    item_tfms=Resize(224, ResizeMethod.Pad, pad_mode='zeros'))\n",
    "dls = mush.dataloaders(path)"
   ]
  },
  {
   "cell_type": "code",
   "execution_count": null,
   "id": "b1ef9766",
   "metadata": {},
   "outputs": [],
   "source": [
    "dls.valid.show_batch(max_n=4, nrows=1)"
   ]
  },
  {
   "cell_type": "code",
   "execution_count": null,
   "id": "dd772428",
   "metadata": {},
   "outputs": [],
   "source": [
    "learn = vision_learner(dls, resnet101, metrics=error_rate)\n",
    "learn.fine_tune(4)"
   ]
  },
  {
   "cell_type": "code",
   "execution_count": null,
   "id": "50ddaa45",
   "metadata": {},
   "outputs": [],
   "source": [
    "learn.export('models/clean-res101.pkl')"
   ]
  },
  {
   "cell_type": "code",
   "execution_count": null,
   "id": "068a5dad",
   "metadata": {},
   "outputs": [],
   "source": [
    "interp = ClassificationInterpretation.from_learner(learn)\n",
    "interp.plot_confusion_matrix()"
   ]
  },
  {
   "cell_type": "code",
   "execution_count": null,
   "id": "3d7c9d4d",
   "metadata": {},
   "outputs": [],
   "source": [
    "interp.plot_top_losses(26, nrows=4)"
   ]
  },
  {
   "cell_type": "markdown",
   "id": "c863f8ef",
   "metadata": {},
   "source": [
    "# Batch Inference"
   ]
  },
  {
   "cell_type": "code",
   "execution_count": null,
   "id": "82438dc3-25e8-4e81-a0c2-ba525b68fff2",
   "metadata": {},
   "outputs": [],
   "source": [
    "image_file = \"dbs/images/training-images.csv\"\n",
    "source_images = pd.read_csv(image_file)\n",
    "images = 'dbs/images/224/' + source_images.gbifid.astype(str) + '-' + source_images.imgid.astype(str) + '.png'\n",
    "images"
   ]
  },
  {
   "cell_type": "code",
   "execution_count": null,
   "id": "8eff5edb",
   "metadata": {},
   "outputs": [],
   "source": [
    "learn_inf = load_learner('models/clean-res101.pkl')\n",
    "learn_inf.model = learn_inf.model.to(device=\"cuda:0\")"
   ]
  },
  {
   "cell_type": "code",
   "execution_count": null,
   "id": "17d74c73-a84e-4e01-9dc6-8eae2d331fde",
   "metadata": {},
   "outputs": [],
   "source": [
    "test_dl = learn.dls.test_dl(images, bs=1024)\n"
   ]
  },
  {
   "cell_type": "code",
   "execution_count": null,
   "id": "f9759e32-263a-49cf-be4d-b66aafcfef15",
   "metadata": {},
   "outputs": [],
   "source": [
    "preds, _, decoded = learn.get_preds(dl=test_dl, with_decoded=True, reorder=False)"
   ]
  },
  {
   "cell_type": "code",
   "execution_count": null,
   "id": "b37f3fba-4c7c-4deb-bcd7-e27266940f38",
   "metadata": {},
   "outputs": [],
   "source": [
    "categorized_file = \"dbs/images/categorized.csv\"\n",
    "\n",
    "with open(categorized_file, \"w\") as f:\n",
    "    for i, pred in enumerate(preds):\n",
    "        confidence = pred[decoded[i]]\n",
    "        percent = float(confidence)\n",
    "        label = learn_inf.dls.vocab[decoded[i]]\n",
    "        f.write(images[i] + ',' + label + ',' + str(percent) + \"\\n\")\n"
   ]
  },
  {
   "cell_type": "code",
   "execution_count": null,
   "id": "6c5aefb5",
   "metadata": {},
   "outputs": [],
   "source": [
    "import ntpath\n",
    "\n",
    "def splitFileName(inputfile):\n",
    "    file = inputfile.strip()\n",
    "    _, tail = ntpath.split(file)\n",
    "    id = tail.replace(\".png\", \"\")\n",
    "    parts = id.split(\"-\")\n",
    "    return id, parts, file\n",
    "\n",
    "def predictBatch(tst_files):\n",
    "    test_dl = learn_inf.dls.test_dl(tst_files)\n",
    "    preds, _, decoded = learn_inf.get_preds(dl=test_dl, with_decoded=True, reorder=False)\n",
    "\n",
    "    for i, pred in enumerate(preds):\n",
    "        id, parts, file = splitFileName(tst_files[i])\n",
    "        confidence = pred[decoded[i]]\n",
    "        percent = float(confidence)\n",
    "        label = learn_inf.dls.vocab[decoded[i]]\n",
    "        print(parts[0] + \",\" + parts[1] + ',' + label + ',' + str(percent))\n",
    "    \n",
    "            \n",
    "predictBatch(items)"
   ]
  },
  {
   "cell_type": "code",
   "execution_count": null,
   "id": "54f2f480",
   "metadata": {},
   "outputs": [],
   "source": [
    "learn_inf.dls.vocab"
   ]
  },
  {
   "cell_type": "code",
   "execution_count": null,
   "id": "a1e57daa",
   "metadata": {},
   "outputs": [],
   "source": []
  }
 ],
 "metadata": {
  "kernelspec": {
   "display_name": "Python 3 (ipykernel)",
   "language": "python",
   "name": "python3"
  },
  "language_info": {
   "codemirror_mode": {
    "name": "ipython",
    "version": 3
   },
   "file_extension": ".py",
   "mimetype": "text/x-python",
   "name": "python",
   "nbconvert_exporter": "python",
   "pygments_lexer": "ipython3",
   "version": "3.10.4"
  }
 },
 "nbformat": 4,
 "nbformat_minor": 5
}
