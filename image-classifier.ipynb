{
  "cells": [
    {
      "cell_type": "code",
      "execution_count": 1,
      "id": "7efe0637",
      "metadata": {},
      "outputs": [],
      "source": [
        "#hide\n",
        "! [ -e /content ] && pip install -Uqq fastbook\n",
        "import fastbook\n",
        "fastbook.setup_book()\n",
        "from fastai.vision.all import *\n",
        "from fastbook import *\n",
        "\n",
        "from fastai.vision.widgets import *\n",
        "\n",
        "import pandas as pd\n",
        "import numpy as np\n",
        "from torch.nn.functional import nll_loss,log_softmax\n",
        "\n",
        "from sklearn import preprocessing\n",
        "from functools import partial\n",
        "import copy"
      ]
    },
    {
      "cell_type": "code",
      "execution_count": 2,
      "id": "fc74d2ca",
      "metadata": {},
      "outputs": [
        {
          "data": {
            "text/html": [
              "<div>\n",
              "<style scoped>\n",
              "    .dataframe tbody tr th:only-of-type {\n",
              "        vertical-align: middle;\n",
              "    }\n",
              "\n",
              "    .dataframe tbody tr th {\n",
              "        vertical-align: top;\n",
              "    }\n",
              "\n",
              "    .dataframe thead th {\n",
              "        text-align: right;\n",
              "    }\n",
              "</style>\n",
              "<table border=\"1\" class=\"dataframe\">\n",
              "  <thead>\n",
              "    <tr style=\"text-align: right;\">\n",
              "      <th></th>\n",
              "      <th>img</th>\n",
              "      <th>species</th>\n",
              "    </tr>\n",
              "  </thead>\n",
              "  <tbody>\n",
              "    <tr>\n",
              "      <th>8</th>\n",
              "      <td>dbs/images/224/2983765339-1.png</td>\n",
              "      <td>Leptoporus mollis</td>\n",
              "    </tr>\n",
              "    <tr>\n",
              "      <th>60</th>\n",
              "      <td>dbs/images/224/1428858500-1.png</td>\n",
              "      <td>Lactarius necator</td>\n",
              "    </tr>\n",
              "    <tr>\n",
              "      <th>61</th>\n",
              "      <td>dbs/images/224/1428858500-2.png</td>\n",
              "      <td>Lactarius necator</td>\n",
              "    </tr>\n",
              "    <tr>\n",
              "      <th>62</th>\n",
              "      <td>dbs/images/224/1428858500-3.png</td>\n",
              "      <td>Lactarius necator</td>\n",
              "    </tr>\n",
              "    <tr>\n",
              "      <th>81</th>\n",
              "      <td>dbs/images/224/1433233463-1.png</td>\n",
              "      <td>Gomphidius glutinosus</td>\n",
              "    </tr>\n",
              "    <tr>\n",
              "      <th>...</th>\n",
              "      <td>...</td>\n",
              "      <td>...</td>\n",
              "    </tr>\n",
              "    <tr>\n",
              "      <th>12025628</th>\n",
              "      <td>dbs/images/224/3424155912-1.png</td>\n",
              "      <td>Paralepista flaccida</td>\n",
              "    </tr>\n",
              "    <tr>\n",
              "      <th>12025629</th>\n",
              "      <td>dbs/images/224/3424155884-1.png</td>\n",
              "      <td>Cladonia uncialis</td>\n",
              "    </tr>\n",
              "    <tr>\n",
              "      <th>12025630</th>\n",
              "      <td>dbs/images/224/3424155890-1.png</td>\n",
              "      <td>Pleurotus pulmonarius</td>\n",
              "    </tr>\n",
              "    <tr>\n",
              "      <th>12025632</th>\n",
              "      <td>dbs/images/224/3424155893-1.png</td>\n",
              "      <td>Lichenomphalia umbellifera</td>\n",
              "    </tr>\n",
              "    <tr>\n",
              "      <th>12025633</th>\n",
              "      <td>dbs/images/224/3424155910-1.png</td>\n",
              "      <td>Fomitopsis pinicola</td>\n",
              "    </tr>\n",
              "  </tbody>\n",
              "</table>\n",
              "<p>2309589 rows × 2 columns</p>\n",
              "</div>"
            ],
            "text/plain": [
              "                                      img                     species\n",
              "8         dbs/images/224/2983765339-1.png           Leptoporus mollis\n",
              "60        dbs/images/224/1428858500-1.png           Lactarius necator\n",
              "61        dbs/images/224/1428858500-2.png           Lactarius necator\n",
              "62        dbs/images/224/1428858500-3.png           Lactarius necator\n",
              "81        dbs/images/224/1433233463-1.png       Gomphidius glutinosus\n",
              "...                                   ...                         ...\n",
              "12025628  dbs/images/224/3424155912-1.png        Paralepista flaccida\n",
              "12025629  dbs/images/224/3424155884-1.png           Cladonia uncialis\n",
              "12025630  dbs/images/224/3424155890-1.png       Pleurotus pulmonarius\n",
              "12025632  dbs/images/224/3424155893-1.png  Lichenomphalia umbellifera\n",
              "12025633  dbs/images/224/3424155910-1.png         Fomitopsis pinicola\n",
              "\n",
              "[2309589 rows x 2 columns]"
            ]
          },
          "execution_count": 2,
          "metadata": {},
          "output_type": "execute_result"
        }
      ],
      "source": [
        "image_file = \"dbs/training/training-data-v0-4.csv\"\n",
        "source_images = pd.read_csv(image_file)\n",
        "source_images = source_images.loc[source_images.imgid.notna()]\n",
        "source_images['img'] = 'dbs/images/224/' + source_images.gbifid.astype(str) + '-' + source_images.imgid.astype(int).astype(str) + '.png'\n",
        "species_images = source_images[['img', 'species']]\n",
        "species_images"
      ]
    },
    {
      "cell_type": "code",
      "execution_count": 3,
      "id": "515ab38c",
      "metadata": {},
      "outputs": [],
      "source": [
        "family_map = {species:family for (species,_,family) in source_images.groupby(by=[\"species\",\"genus\",\"_family\"]).indices.keys()}\n",
        "family_list = list(family_map.values())\n",
        "fle = preprocessing.LabelEncoder()\n",
        "family_targets = torch.tensor(fle.fit_transform(family_list), device='cuda:0')\n",
        "family_dims = family_targets.max().int().item() + 1\n",
        "\n",
        "genus_map = {species:genus for (species,genus,_) in source_images.groupby(by=[\"species\",\"genus\",\"_family\"]).indices.keys()}\n",
        "genus_list = list(genus_map.values())\n",
        "gle = preprocessing.LabelEncoder()\n",
        "genus_targets = torch.tensor(gle.fit_transform(genus_list), device='cuda:0')\n",
        "genus_dims = genus_targets.max().int().item() + 1"
      ]
    },
    {
      "cell_type": "code",
      "execution_count": 4,
      "id": "70f3bcc3",
      "metadata": {},
      "outputs": [],
      "source": [
        "# -- %%fsql\n",
        "# -- images = SELECT 'dbs/images/224/' + gbifid + '-' + imgid + '.png' img, species \n",
        "# -- FROM (LOAD '{{image_file}}' (header=true))\n",
        "# -- YIELD DATAFRAME AS images\n",
        "# -- PRINT"
      ]
    },
    {
      "cell_type": "code",
      "execution_count": 5,
      "id": "507f5f8b",
      "metadata": {},
      "outputs": [],
      "source": [
        "import re\n",
        "p = re.compile('dbs/images/224/([0-9]+)-.*')\n",
        "o = \"dbs/images/224/2983765339-1.png\"\n",
        "\n",
        "def get_x(a):\n",
        "    return a[0]\n",
        "def get_y(a):\n",
        "    return a[1]\n",
        "\n",
        "\n",
        "mush = DataBlock(\n",
        "    blocks=(ImageBlock, CategoryBlock), \n",
        "    splitter=FuncSplitter(lambda o: (int(p.match(o[0]).group(1)) % 10)),\n",
        "    get_x=get_x,\n",
        "    get_y=get_y)"
      ]
    },
    {
      "cell_type": "code",
      "execution_count": 6,
      "id": "0c5ff23a",
      "metadata": {},
      "outputs": [],
      "source": [
        "def accuracy_species(inp, targ, axis=-1):\n",
        "    pred,targ = flatten_check(inp.argmax(dim=axis), targ)\n",
        "    return (pred == targ).float().mean()\n",
        "\n",
        "def top_5(inp, targ, axis=-1):\n",
        "    return top_n(5, inp, targ, axis)\n",
        "\n",
        "def top_10(inp, targ, axis=-1):\n",
        "    return top_n(10, inp, targ, axis)\n",
        "\n",
        "def top_n(n, inp, targ, axis=-1):\n",
        "    _, idx = torch.topk(inp, n)\n",
        "    return (idx == targ.unsqueeze(axis)).any(axis).float().mean()\n",
        "\n",
        "def accuracy_tax(tax_targets, inp, targ, axis=-1):\n",
        "    temp = [torch.argmax(x) for x in inp]\n",
        "    new_inp = tensor([tax_targets[x] for x in temp])\n",
        "    new_targ = tensor([tax_targets[x] for x in targ])\n",
        "    return (new_inp == new_targ).float().mean()    \n",
        "\n",
        "def accuracy_family(inp, targ, axis=-1):\n",
        "    return accuracy_tax(family_targets, inp, targ, axis)\n",
        "\n",
        "def accuracy_genus(inp, targ, axis=-1):\n",
        "    return accuracy_tax(genus_targets, inp, targ, axis)\n",
        "\n",
        "def cross_entropy_species(input, target, weight=None, size_average=None, ignore_index=-100,\n",
        "                          reduce=None, reduction='mean'):\n",
        "    input_p = torch.softmax(input, dim=-1)\n",
        "    return nll_loss(torch.log(input_p), target, None, None, ignore_index, None, reduction)\n",
        "\n",
        "def cross_entropy_tax(tax_targets, target_dims, input, target, weight=None, size_average=None, ignore_index=-100,\n",
        "                  reduce=None, reduction='mean'):\n",
        "\n",
        "    # softmax to convert scores to probabilities\n",
        "    input_p = torch.softmax(input,dim=1)\n",
        "\n",
        "    # Sum the probabilities for each taxonomy classification \n",
        "    # Could not compile: new_input = scatter_add(input_p, tax_targets)\n",
        "    tax_index = tax_targets.repeat(len(input_p), 1)\n",
        "    new_input = torch.zeros(len(input_p), target_dims, dtype=input_p.dtype, device='cuda:0')\n",
        "    new_input.scatter_add_(1, tax_index, input_p)\n",
        "    # Create the new target\n",
        "    new_target = TensorCategory(tax_targets[target].long())\n",
        "    return nll_loss(torch.log(new_input), new_target, None, None, ignore_index, None, reduction)\n",
        "\n",
        "def cross_entropy_family(input, target, weight=None, size_average=None, ignore_index=-100,\n",
        "                  reduce=None, reduction='mean'):\n",
        "    return cross_entropy_tax(family_targets, family_dims, input, target, weight, size_average, ignore_index, reduce, reduction)\n",
        "\n",
        "def cross_entropy_genus(input, target, weight=None, size_average=None, ignore_index=-100,\n",
        "                  reduce=None, reduction='mean'):\n",
        "    return cross_entropy_tax(genus_targets, genus_dims, input, target, weight, size_average, ignore_index, reduce, reduction)\n",
        "\n",
        "\n",
        "def joint_loss(input, target, w=1, weight=None, size_average=None, ignore_index=-100,\n",
        "                  reduce=None, reduction='mean'):\n",
        "    ce_species = cross_entropy_species(input, target, weight=None, size_average=None, ignore_index=-100,\n",
        "                  reduce=None, reduction='mean')\n",
        "\n",
        "    ce_genus = cross_entropy_genus(input, target, weight=None, size_average=None, ignore_index=-100,\n",
        "                  reduce=None, reduction='mean')\n",
        "\n",
        "    # Linear combination of the cross-entropy scores at the 2 levels in hierarchy.\n",
        "    return w*ce_species+(1-w)*ce_genus"
      ]
    },
    {
      "cell_type": "code",
      "execution_count": 7,
      "id": "eed4679e",
      "metadata": {},
      "outputs": [],
      "source": [
        "batch_size = 256\n",
        "weight = 1.0\n",
        "species_loss = partial(joint_loss,w=weight)\n",
        "final_loss = partial(joint_loss,w=weight)\n",
        "metrics = [error_rate, accuracy_family, accuracy_genus, accuracy_species, top_5, top_10]"
      ]
    },
    {
      "cell_type": "code",
      "execution_count": 8,
      "id": "d5ec3695",
      "metadata": {},
      "outputs": [],
      "source": [
        "dls = mush.dataloaders(species_images.to_numpy(), bs=batch_size)"
      ]
    },
    {
      "cell_type": "code",
      "execution_count": 9,
      "id": "5370a0b5",
      "metadata": {},
      "outputs": [],
      "source": [
        "learn = vision_learner(dls, resnet101, loss_func=cross_entropy_species, metrics=metrics).to_fp16()"
      ]
    },
    {
      "cell_type": "code",
      "execution_count": null,
      "id": "dc71c4b3",
      "metadata": {},
      "outputs": [
        {
          "data": {
            "text/html": [
              "\n",
              "<style>\n",
              "    /* Turns off some styling */\n",
              "    progress {\n",
              "        /* gets rid of default border in Firefox and Opera. */\n",
              "        border: none;\n",
              "        /* Needs to be in here for Safari polyfill so background images work as expected. */\n",
              "        background-size: auto;\n",
              "    }\n",
              "    .progress-bar-interrupted, .progress-bar-interrupted::-webkit-progress-bar {\n",
              "        background: #F44336;\n",
              "    }\n",
              "</style>\n"
            ],
            "text/plain": ["<IPython.core.display.HTML object>"]
          },
          "metadata": {},
          "output_type": "display_data"
        },
        {
          "data": {
            "text/html": [
              "\n",
              "    <div>\n",
              "      <progress value='0' class='' max='1' style='width:300px; height:20px; vertical-align: middle;'></progress>\n",
              "      0.00% [0/1 00:00<00:00]\n",
              "    </div>\n",
              "    \n",
              "<table border=\"1\" class=\"dataframe\">\n",
              "  <thead>\n",
              "    <tr style=\"text-align: left;\">\n",
              "      <th>epoch</th>\n",
              "      <th>train_loss</th>\n",
              "      <th>valid_loss</th>\n",
              "      <th>error_rate</th>\n",
              "      <th>accuracy_family</th>\n",
              "      <th>accuracy_genus</th>\n",
              "      <th>accuracy_species</th>\n",
              "      <th>top_5</th>\n",
              "      <th>top_10</th>\n",
              "      <th>time</th>\n",
              "    </tr>\n",
              "  </thead>\n",
              "  <tbody>\n",
              "  </tbody>\n",
              "</table><p>\n",
              "\n",
              "    <div>\n",
              "      <progress value='400' class='' max='9021' style='width:300px; height:20px; vertical-align: middle;'></progress>\n",
              "      4.43% [400/9021 03:26<1:14:10 8.1493]\n",
              "    </div>\n",
              "    "
            ],
            "text/plain": ["<IPython.core.display.HTML object>"]
          },
          "metadata": {},
          "output_type": "display_data"
        }
      ],
      "source": [
        "learn.fine_tune(7)\n",
        "learn.export(\"models/v0.4/resnet101-f7-fp16-h1.0.pkl\")"
      ]
    },
    {
      "cell_type": "code",
      "execution_count": null,
      "id": "5fce57f2-0f09-4ea6-b1e9-961f227fd89a",
      "metadata": {},
      "outputs": [],
      "source": [
        "\n",
        "learn.export(\"models/v0.3/resnet101-f7-fp16-h1.0.pkl\")"
      ]
    },
    {
      "cell_type": "markdown",
      "id": "b296b70f",
      "metadata": {},
      "source": ["# Loading & Validation"]
    },
    {
      "cell_type": "code",
      "execution_count": null,
      "id": "8d6d88bc",
      "metadata": {},
      "outputs": [],
      "source": [
        "learn_val = load_learner('models/v0.2-resnet18-h1.0-f4-fp16.pkl')\n",
        "learn_val.model = learn_val.model.to(device=\"cuda:0\")\n",
        "learn_val.metrics = metrics\n",
        "learn_val.dls = dls\n",
        "learn_val.validate()"
      ]
    },
    {
      "cell_type": "markdown",
      "id": "01662093",
      "metadata": {},
      "source": ["# Family/Genus/Species Loss"]
    },
    {
      "cell_type": "code",
      "execution_count": null,
      "id": "68a56ed8",
      "metadata": {},
      "outputs": [],
      "source": [
        "learn = vision_learner(dls, resnet18, loss_func=cross_entropy_family, metrics=[error_rate, accuracy_family, accuracy_genus, accuracy_species]).to_fp16()\n",
        "learn.lr_find()"
      ]
    },
    {
      "cell_type": "code",
      "execution_count": null,
      "id": "c5327ffb",
      "metadata": {},
      "outputs": [],
      "source": [
        "learn.fine_tune(4, base_lr=0.0030199517495930195, )\n",
        "learn.export(\"models/family/v0.2-resnet16-f4-fp16.pkl\")"
      ]
    },
    {
      "cell_type": "code",
      "execution_count": null,
      "id": "ee55f099",
      "metadata": {},
      "outputs": [],
      "source": ["learn.loss_func = cross_entropy_genus\n", "learn.lr_find()"]
    },
    {
      "cell_type": "code",
      "execution_count": null,
      "id": "f8de34e6",
      "metadata": {},
      "outputs": [],
      "source": [
        "learn.fine_tune(4, base_lr=0.0002754228771664202, )\n",
        "learn.export(\"models/genus/v0.2-resnet16-f4-fp16.pkl\")"
      ]
    },
    {
      "cell_type": "code",
      "execution_count": null,
      "id": "4d8fbd31",
      "metadata": {},
      "outputs": [],
      "source": ["learn.loss_func = cross_entropy_species\n", "learn.lr_find()"]
    },
    {
      "cell_type": "code",
      "execution_count": null,
      "id": "7e191f0c",
      "metadata": {},
      "outputs": [],
      "source": [
        "learn.fine_tune(4, base_lr=0.002290867705596611)\n",
        "learn.export(\"models/species/v0.2-resnet16-f4-fp16.pkl\")"
      ]
    },
    {
      "cell_type": "markdown",
      "id": "05e161cc",
      "metadata": {},
      "source": ["# Utils"]
    },
    {
      "cell_type": "code",
      "execution_count": null,
      "id": "7ebaaaba",
      "metadata": {},
      "outputs": [],
      "source": [
        "learn = None\n",
        "dls = None\n",
        "genus_targets = None\n",
        "target_dims = None\n",
        "torch.cuda.empty_cache()\n"
      ]
    },
    {
      "cell_type": "code",
      "execution_count": null,
      "id": "098d8227",
      "metadata": {},
      "outputs": [],
      "source": [
        "t = torch.cuda.get_device_properties(0).total_memory\n",
        "r = torch.cuda.memory_reserved(0)\n",
        "a = torch.cuda.memory_allocated(0)\n",
        "f = r-a  # free inside reserved\n",
        "\n",
        "t,r,a,f"
      ]
    },
    {
      "cell_type": "code",
      "execution_count": null,
      "id": "b2471604",
      "metadata": {},
      "outputs": [],
      "source": [
        "src = torch.arange(1, 11).reshape((2, 5))\n",
        "index = torch.tensor([[0, 1, 2, 0, 2], [0, 1, 2, 0, 2]])\n",
        "zeros = torch.zeros(2, 3, dtype=src.dtype)\n",
        "zeros.scatter_(1, index, src, reduce='add')\n",
        "print(src.shape, index.shape, zeros.shape)\n",
        "src, index, zeros"
      ]
    },
    {
      "cell_type": "code",
      "execution_count": null,
      "id": "8d802b45",
      "metadata": {},
      "outputs": [],
      "source": [
        "src = torch.arange(1, 21).reshape((4, 5))\n",
        "targs = torch.tensor([3,2,4,5]).unsqueeze(-1)\n",
        "_, idx = torch.topk(src, 2)\n",
        "idx, targs\n",
        "src, idx, targs, (idx == targs).any(-1)"
      ]
    },
    {
      "cell_type": "code",
      "execution_count": null,
      "id": "5d4b787d",
      "metadata": {},
      "outputs": [],
      "source": ["genus_targets.repeat(batch_size).shape"]
    },
    {
      "cell_type": "markdown",
      "id": "e402d7bc",
      "metadata": {},
      "source": ["## Old heirarchy attempt"]
    },
    {
      "cell_type": "code",
      "execution_count": null,
      "id": "71f3e4a9",
      "metadata": {},
      "outputs": [],
      "source": [
        "genus_dls = genus_loader(batch_size)\n",
        "learn.dls = genus_dls\n",
        "learn.lr_find()"
      ]
    },
    {
      "cell_type": "code",
      "execution_count": null,
      "id": "e78093d7",
      "metadata": {},
      "outputs": [],
      "source": [
        "learn.fine_tune(4, base_lr=2.511886486900039e-05)\n",
        "learn.export(\"models/genus/v0.2-resnet16-f4-fp16.pkl\")"
      ]
    },
    {
      "cell_type": "code",
      "execution_count": null,
      "id": "fbb67718",
      "metadata": {},
      "outputs": [],
      "source": [
        "species_dls = species_loader(batch_size, 1)\n",
        "learn.dls = genus_dls\n",
        "learn.lr_find()"
      ]
    },
    {
      "cell_type": "code",
      "execution_count": null,
      "id": "fe113a89",
      "metadata": {},
      "outputs": [],
      "source": [
        "learn.fine_tune(4, base_lr=2.511886486900039e-05)\n",
        "learn.export(\"models/species/v0.2-resnet16-f4-fp16-fgt.pkl\")"
      ]
    },
    {
      "cell_type": "code",
      "execution_count": null,
      "id": "a2aa1220",
      "metadata": {},
      "outputs": [],
      "source": [
        "dls, loss = species_loader(batch_size, .8)\n",
        "\n",
        "learn = vision_learner(dls, resnet50, metrics=error_rate, loss_func=loss).to_fp16()\n",
        "\n",
        "# learn.lr_find()\n",
        "learn.fine_tune(10)\n",
        "learn.export(\"models/v0.2-resnet50-h0.8-f4-fp16.pkl\")"
      ]
    },
    {
      "cell_type": "code",
      "execution_count": null,
      "id": "dbeea3cf",
      "metadata": {},
      "outputs": [],
      "source": [
        "# learn = vision_learner(dls, resnet18, metrics=error_rate).to_fp16()\n",
        "# learn.fine_tune(4)"
      ]
    },
    {
      "cell_type": "code",
      "execution_count": null,
      "id": "4666f9ad",
      "metadata": {},
      "outputs": [],
      "source": [
        "# learn = vision_learner(dls, resnet18, metrics=error_rate)\n",
        "# learn.fine_tune(4)"
      ]
    },
    {
      "cell_type": "code",
      "execution_count": null,
      "id": "722188e7",
      "metadata": {},
      "outputs": [],
      "source": [
        "# learn = vision_learner(dls, resnet50, metrics=error_rate)\n",
        "# learn.fine_tune(4)"
      ]
    },
    {
      "cell_type": "code",
      "execution_count": null,
      "id": "1a5ff185",
      "metadata": {},
      "outputs": [],
      "source": [
        "# learn = vision_learner(dls, resnet50, metrics=error_rate).to_fp16()\n",
        "# learn.fine_tune(4)\n",
        "# learn.save(\"v0.1-resnet50fp16.mdl\")"
      ]
    },
    {
      "cell_type": "code",
      "execution_count": null,
      "id": "0980e5cd",
      "metadata": {},
      "outputs": [],
      "source": [
        "# learn = vision_learner(dls, resnet101, metrics=error_rate).to_fp16()\n",
        "# learn.fine_tune(4)\n",
        "# learn.save(\"v0.1-resnet101fp16.mdl\")"
      ]
    },
    {
      "cell_type": "code",
      "execution_count": null,
      "id": "28350b48",
      "metadata": {},
      "outputs": [],
      "source": [
        "# learn = vision_learner(dls, resnet101, metrics=error_rate)\n",
        "# learn.fine_tune(4)\n",
        "# learn.save(\"v0.1-resnet101fp32.mdl\")"
      ]
    },
    {
      "cell_type": "code",
      "execution_count": null,
      "id": "ca39e4e5",
      "metadata": {},
      "outputs": [],
      "source": []
    }
  ],
  "metadata": {
    "kernelspec": {
      "display_name": "Python 3 (ipykernel)",
      "language": "python",
      "name": "python3"
    },
    "language_info": {
      "codemirror_mode": {
        "name": "ipython",
        "version": 3
      },
      "file_extension": ".py",
      "mimetype": "text/x-python",
      "name": "python",
      "nbconvert_exporter": "python",
      "pygments_lexer": "ipython3",
      "version": "3.9.12"
    }
  },
  "nbformat": 4,
  "nbformat_minor": 5
}
