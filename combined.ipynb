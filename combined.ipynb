{
 "cells": [
  {
   "cell_type": "code",
   "execution_count": 104,
   "id": "1e045ec8-93cb-4cc4-ac80-0c94a4fc6bf0",
   "metadata": {},
   "outputs": [],
   "source": [
    "#hide\n",
    "! [ -e /content ] && pip install -Uqq fastbook\n",
    "import fastbook\n",
    "fastbook.setup_book()\n",
    "from fastbook import *\n",
    "from fastai.data.external import *\n",
    "from ipywidgets import *\n",
    "import pandas as pd\n",
    "import numpy as np\n",
    "import math\n",
    "import sqlite3\n",
    "from random import randint"
   ]
  },
  {
   "cell_type": "code",
   "execution_count": 2,
   "id": "7fdf9992-c0bf-40fb-971c-cf0ce4348b6f",
   "metadata": {},
   "outputs": [],
   "source": [
    "def accuracy_species(inp, targ, axis=-1):\n",
    "    pred,targ = flatten_check(inp.argmax(dim=axis), targ)\n",
    "    return (pred == targ).float().mean()\n",
    "\n",
    "def top_5(inp, targ, axis=-1):\n",
    "    return top_n(5, inp, targ, axis)\n",
    "\n",
    "def top_10(inp, targ, axis=-1):\n",
    "    return top_n(10, inp, targ, axis)\n",
    "\n",
    "def top_n(n, inp, targ, axis=-1):\n",
    "    _, idx = torch.topk(inp, n)\n",
    "    return (idx == targ.unsqueeze(axis)).any(axis).float().mean()\n",
    "\n",
    "def accuracy_tax(tax_targets, inp, targ, axis=-1):\n",
    "    temp = [torch.argmax(x) for x in inp]\n",
    "    new_inp = tensor([tax_targets[x] for x in temp])\n",
    "    new_targ = tensor([tax_targets[x] for x in targ])\n",
    "    return (new_inp == new_targ).float().mean()    \n",
    "\n",
    "def accuracy_family(inp, targ, axis=-1):\n",
    "    return accuracy_tax(family_targets, inp, targ, axis)\n",
    "\n",
    "def accuracy_genus(inp, targ, axis=-1):\n",
    "    return accuracy_tax(genus_targets, inp, targ, axis)\n",
    "\n",
    "def cross_entropy_species(input, target, weight=None, size_average=None, ignore_index=-100,\n",
    "                          reduce=None, reduction='mean'):\n",
    "    input_p = torch.softmax(input, dim=-1)\n",
    "    return nll_loss(torch.log(input_p), target, None, None, ignore_index, None, reduction)\n",
    "\n",
    "def cross_entropy_tax(tax_targets, target_dims, input, target, weight=None, size_average=None, ignore_index=-100,\n",
    "                  reduce=None, reduction='mean'):\n",
    "\n",
    "    # softmax to convert scores to probabilities\n",
    "    input_p = torch.softmax(input,dim=1)\n",
    "\n",
    "    # Sum the probabilities for each taxonomy classification \n",
    "    # Could not compile: new_input = scatter_add(input_p, tax_targets)\n",
    "    tax_index = tax_targets.repeat(len(input_p), 1)\n",
    "    new_input = torch.zeros(len(input_p), target_dims, dtype=input_p.dtype, device='cuda:0')\n",
    "    new_input.scatter_add_(1, tax_index, input_p)\n",
    "    # Create the new target\n",
    "    new_target = TensorCategory(tax_targets[target].long())\n",
    "    return nll_loss(torch.log(new_input), new_target, None, None, ignore_index, None, reduction)\n",
    "\n",
    "def cross_entropy_family(input, target, weight=None, size_average=None, ignore_index=-100,\n",
    "                  reduce=None, reduction='mean'):\n",
    "    return cross_entropy_tax(family_targets, family_dims, input, target, weight, size_average, ignore_index, reduce, reduction)\n",
    "\n",
    "def cross_entropy_genus(input, target, weight=None, size_average=None, ignore_index=-100,\n",
    "                  reduce=None, reduction='mean'):\n",
    "    return cross_entropy_tax(genus_targets, genus_dims, input, target, weight, size_average, ignore_index, reduce, reduction)\n",
    "\n",
    "\n",
    "def joint_loss(input, target, w=1, weight=None, size_average=None, ignore_index=-100,\n",
    "                  reduce=None, reduction='mean'):\n",
    "    ce_species = cross_entropy_species(input, target, weight=None, size_average=None, ignore_index=-100,\n",
    "                  reduce=None, reduction='mean')\n",
    "\n",
    "    ce_genus = cross_entropy_genus(input, target, weight=None, size_average=None, ignore_index=-100,\n",
    "                  reduce=None, reduction='mean')\n",
    "\n",
    "    # Linear combination of the cross-entropy scores at the 2 levels in hierarchy.\n",
    "    return w*ce_species+(1-w)*ce_genus"
   ]
  },
  {
   "cell_type": "code",
   "execution_count": 3,
   "id": "c9914430-e4f9-4f5c-bac9-e82efa784548",
   "metadata": {},
   "outputs": [],
   "source": [
    "def get_x(a):\n",
    "    return a[0]\n",
    "def get_y(a):\n",
    "    return a[1]"
   ]
  },
  {
   "cell_type": "code",
   "execution_count": 49,
   "id": "6b44050a-6cbb-49e4-9549-0428faeec698",
   "metadata": {},
   "outputs": [],
   "source": [
    "no_lat_tab_learn = load_learner('models/v0.3/tabular-f4-no-lat-long.pkl')\n",
    "tab_learn = load_learner('models/v0.3/tabular-f4.pkl')\n",
    "img_learn = load_learner('models/v0.3/resnet101-f7-fp16-h1.0.pkl')"
   ]
  },
  {
   "cell_type": "code",
   "execution_count": 5,
   "id": "8186ba1f-7bc5-44ef-884d-d6df2b5d9661",
   "metadata": {},
   "outputs": [],
   "source": [
    "file = \"dbs/training/training-data-v0-3.csv\"\n",
    "data = pd.read_csv(file)"
   ]
  },
  {
   "cell_type": "code",
   "execution_count": 38,
   "id": "05817234-8114-4b20-9abb-9d7887f8863c",
   "metadata": {},
   "outputs": [],
   "source": [
    "def get_tab_data(data):\n",
    "    tab_columns = ['kg', 'elu_class1', 'elu_class2', 'elu_class3', 'decimallatitude', 'decimallongitude', 'species', 'normalized_month', 'season']\n",
    "    return data[tab_columns].copy()\n",
    "\n",
    "def get_img_data(data):\n",
    "    img_data = data.copy()\n",
    "    img_data['img'] = 'dbs/images/224/' + data.gbifid.astype(str) + '-' + data.imgid.astype(int).astype(str) + '.png'\n",
    "    return img_data[['img', 'species']]\n",
    "\n",
    "def get_species(indices):\n",
    "    return [img_learn.dls.vocab[idx] for idx in indices]\n",
    "\n",
    "def print_top50(probs):\n",
    "    values, indices = torch.topk(probs, 50)\n",
    "    print(L(zip(values, indices, get_species(indices))))\n",
    "\n",
    "def get_results(learner, data):\n",
    "    row, clas, probs = learner.predict(data)\n",
    "    # print(clas)\n",
    "    return probs\n",
    "\n",
    "def get_bounding_box(lat, lon, dist):\n",
    "    latdiff = (180 / math.pi) * (dist / 6378137)\n",
    "    londiff = (180 / math.pi) * (dist / 6378137) / math.cos(lat)\n",
    "    return (lat - latdiff, lon - londiff), (lat + latdiff, lon + londiff)\n",
    "\n",
    "def get_db_species(conn, observation, dist):\n",
    "    p1, p2 = get_bounding_box(tab_item.decimallatitude, tab_item.decimallongitude, dist)\n",
    "    print(p1, p2)\n",
    "    cursor = conn.execute(\"\"\"\n",
    "    SELECT species, COUNT(*)\n",
    "    FROM validobservations v \n",
    "    JOIN trainingspecies t ON v.specieskey = t.specieskey\n",
    "    WHERE decimallatitude BETWEEN ? AND ? \n",
    "    AND decimallongitude BETWEEN ? AND ? \n",
    "    GROUP BY 1 ORDER BY 2;\"\"\",\n",
    "                 (p1[0], p2[0], p1[1], p2[1]))\n",
    "    results = cursor.fetchall()\n",
    "    print(len(results))\n",
    "                 "
   ]
  },
  {
   "cell_type": "code",
   "execution_count": 39,
   "id": "7ce93d35-e9ff-471e-99a2-5d49c84f25d9",
   "metadata": {},
   "outputs": [],
   "source": [
    "tab_data = data.loc[~(data.imgid > 1)].copy()\n",
    "tab_data = get_tab_data(tab_data)\n",
    "\n",
    "has_img_data = data.loc[data.imgid.notna()].copy()\n",
    "img_data = get_img_data(has_img_data)\n",
    "img_tab_data = get_tab_data(has_img_data)"
   ]
  },
  {
   "cell_type": "code",
   "execution_count": 124,
   "id": "d494fdd9-5c51-4649-a280-6a85c107cb43",
   "metadata": {},
   "outputs": [
    {
     "name": "stdout",
     "output_type": "stream",
     "text": [
      "453399\n",
      "kg                                                  15\n",
      "elu_class1                          Cold Wet Mountains\n",
      "elu_class2              Non-Carbonate Sedimentary Rock\n",
      "elu_class3          Mostly Needleleaf/Evergreen Forest\n",
      "decimallatitude                               57.06108\n",
      "decimallongitude                           -135.327541\n",
      "species                               Hydnellum peckii\n",
      "normalized_month                                    10\n",
      "season                                          autumn\n",
      "Name: 1612715, dtype: object img        dbs/images/224/3355568145-1.png\n",
      "species                   Hydnellum peckii\n",
      "Name: 1612715, dtype: object\n"
     ]
    },
    {
     "data": {
      "text/html": [
       "\n",
       "<style>\n",
       "    /* Turns off some styling */\n",
       "    progress {\n",
       "        /* gets rid of default border in Firefox and Opera. */\n",
       "        border: none;\n",
       "        /* Needs to be in here for Safari polyfill so background images work as expected. */\n",
       "        background-size: auto;\n",
       "    }\n",
       "    .progress-bar-interrupted, .progress-bar-interrupted::-webkit-progress-bar {\n",
       "        background: #F44336;\n",
       "    }\n",
       "</style>\n"
      ],
      "text/plain": [
       "<IPython.core.display.HTML object>"
      ]
     },
     "metadata": {},
     "output_type": "display_data"
    },
    {
     "data": {
      "text/html": [],
      "text/plain": [
       "<IPython.core.display.HTML object>"
      ]
     },
     "metadata": {},
     "output_type": "display_data"
    },
    {
     "name": "stdout",
     "output_type": "stream",
     "text": [
      "[(tensor(0.0212), tensor(90), 'Amanita muscaria'), (tensor(0.0179), tensor(1603), 'Lobaria pulmonaria'), (tensor(0.0150), tensor(1974), 'Peltigera membranacea'), (tensor(0.0124), tensor(1466), 'Laetiporus conifericola'), (tensor(0.0119), tensor(1602), 'Lobaria oregana'), (tensor(0.0114), tensor(2156), 'Pleurocybella porrigens'), (tensor(0.0112), tensor(1411), 'Lactarius fallax'), (tensor(0.0110), tensor(358), 'Cantharellus formosus'), (tensor(0.0107), tensor(615), 'Coprinus comatus'), (tensor(0.0103), tensor(1965), 'Peltigera britannica'), (tensor(0.0101), tensor(1967), 'Peltigera collina'), (tensor(0.0100), tensor(2149), 'Platismatia glauca'), (tensor(0.0080), tensor(976), 'Fomitopsis ochracea'), (tensor(0.0077), tensor(523), 'Clavulina coralloides'), (tensor(0.0074), tensor(1323), 'Icmadophila ericetorum'), (tensor(0.0073), tensor(2617), 'Sphaerophorus globosus'), (tensor(0.0072), tensor(1601), 'Lobaria linita'), (tensor(0.0071), tensor(854), 'Dolichousnea longissima'), (tensor(0.0069), tensor(737), 'Craterellus tubaeformis'), (tensor(0.0069), tensor(975), 'Fomitopsis mounceae'), (tensor(0.0069), tensor(494), 'Cladonia squamosa'), (tensor(0.0068), tensor(200), 'Atheniella aurantiidisca'), (tensor(0.0067), tensor(2151), 'Platismatia norvegica'), (tensor(0.0065), tensor(2028), 'Phaeolus schweinitzii'), (tensor(0.0063), tensor(471), 'Cladonia gracilis'), (tensor(0.0062), tensor(1604), 'Lobarina scrobiculata'), (tensor(0.0060), tensor(2140), 'Pilophorus acicularis'), (tensor(0.0058), tensor(448), 'Cladonia bellidiflora'), (tensor(0.0056), tensor(1976), 'Peltigera neopolydactyla'), (tensor(0.0056), tensor(2944), 'Xylaria hypoxylon'), (tensor(0.0055), tensor(207), 'Aureoboletus mirabilis'), (tensor(0.0055), tensor(1312), 'Hypotrachyna sinuosa'), (tensor(0.0054), tensor(1306), 'Hypomyces lactifluorum'), (tensor(0.0052), tensor(1599), 'Lobaria anomala'), (tensor(0.0050), tensor(2364), 'Ramalina farinacea'), (tensor(0.0049), tensor(1939), 'Parmelia sulcata'), (tensor(0.0049), tensor(2266), 'Pseudocyphellaria crocata'), (tensor(0.0047), tensor(2741), 'Trametes versicolor'), (tensor(0.0047), tensor(1145), 'Helvella vespertina'), (tensor(0.0047), tensor(486), 'Cladonia polydactyla'), (tensor(0.0045), tensor(1244), 'Hygrophoropsis aurantiaca'), (tensor(0.0045), tensor(1620), 'Lycoperdon perlatum'), (tensor(0.0045), tensor(1849), 'Nephroma bellum'), (tensor(0.0044), tensor(259), 'Boletus edulis'), (tensor(0.0043), tensor(1813), 'Mycoblastus sanguinarius'), (tensor(0.0042), tensor(2150), 'Platismatia herrei'), (tensor(0.0042), tensor(481), 'Cladonia ochrochlora'), (tensor(0.0041), tensor(728), 'Cortinarius violaceus'), (tensor(0.0041), tensor(54), 'Alloclavaria purpurea'), (tensor(0.0040), tensor(316), 'Calocera cornea')]\n"
     ]
    },
    {
     "data": {
      "text/html": [
       "\n",
       "<style>\n",
       "    /* Turns off some styling */\n",
       "    progress {\n",
       "        /* gets rid of default border in Firefox and Opera. */\n",
       "        border: none;\n",
       "        /* Needs to be in here for Safari polyfill so background images work as expected. */\n",
       "        background-size: auto;\n",
       "    }\n",
       "    .progress-bar-interrupted, .progress-bar-interrupted::-webkit-progress-bar {\n",
       "        background: #F44336;\n",
       "    }\n",
       "</style>\n"
      ],
      "text/plain": [
       "<IPython.core.display.HTML object>"
      ]
     },
     "metadata": {},
     "output_type": "display_data"
    },
    {
     "data": {
      "text/html": [],
      "text/plain": [
       "<IPython.core.display.HTML object>"
      ]
     },
     "metadata": {},
     "output_type": "display_data"
    },
    {
     "name": "stdout",
     "output_type": "stream",
     "text": [
      "[(TensorBase(18.5630), TensorBase(1196), 'Hydnellum peckii'), (TensorBase(15.5111), TensorBase(1191), 'Hydnellum ferrugineum'), (TensorBase(12.3529), TensorBase(1184), 'Hydnellum aurantiacum'), (TensorBase(12.1856), TensorBase(1188), 'Hydnellum concrescens'), (TensorBase(11.9205), TensorBase(1198), 'Hydnellum spongiosipes'), (TensorBase(11.6931), TensorBase(2721), 'Thelephora terrestris'), (TensorBase(11.5354), TensorBase(1375), 'Laccaria amethysteo-occidentalis'), (TensorBase(11.3519), TensorBase(2545), 'Sarcodon imbricatus'), (TensorBase(11.1884), TensorBase(1379), 'Laccaria ochropurpurea'), (TensorBase(10.7803), TensorBase(2028), 'Phaeolus schweinitzii'), (TensorBase(10.7747), TensorBase(1468), 'Laetiporus persicinus'), (TensorBase(10.5181), TensorBase(1189), 'Hydnellum cyanopodium'), (TensorBase(10.4231), TensorBase(2424), 'Rhodofomes cajanderi'), (TensorBase(10.1791), TensorBase(1016), 'Ganoderma tsugae'), (TensorBase(10.0328), TensorBase(1194), 'Hydnellum lundellii'), (TensorBase(9.9640), TensorBase(105), 'Amanita rubescens'), (TensorBase(9.8725), TensorBase(1786), 'Mycena pura'), (TensorBase(9.7475), TensorBase(1652), 'Marasmius plicatulus'), (TensorBase(9.7367), TensorBase(1452), 'Lactarius subpurpureus'), (TensorBase(9.6139), TensorBase(2426), 'Rhodofomitopsis lilacinogilva'), (TensorBase(9.6024), TensorBase(1160), 'Herpothallon rubrocinctum'), (TensorBase(9.5025), TensorBase(1159), 'Hermanssonia centrifuga'), (TensorBase(9.4167), TensorBase(2682), 'Suillus spraguei'), (TensorBase(9.3937), TensorBase(1566), 'Leptoporus mollis'), (TensorBase(9.3877), TensorBase(2330), 'Pucciniastrum areolatum'), (TensorBase(9.3420), TensorBase(0), 'Abortiporus biennis'), (TensorBase(9.3086), TensorBase(93), 'Amanita novinupta'), (TensorBase(9.3044), TensorBase(815), 'Deconica montana'), (TensorBase(9.2932), TensorBase(207), 'Aureoboletus mirabilis'), (TensorBase(9.2710), TensorBase(1429), 'Lactarius paradoxus'), (TensorBase(9.2592), TensorBase(2679), 'Suillus placidus'), (TensorBase(9.1007), TensorBase(1265), 'Hygrophorus purpurascens'), (TensorBase(9.0675), TensorBase(759), 'Cudonia circinans'), (TensorBase(9.0647), TensorBase(67), 'Amanita bisporigera'), (TensorBase(9.0607), TensorBase(1382), 'Laccaria trullisata'), (TensorBase(9.0496), TensorBase(1195), 'Hydnellum mirabile'), (TensorBase(9.0419), TensorBase(1030), 'Geastrum rufescens'), (TensorBase(9.0165), TensorBase(628), 'Cortinarius anthracinus'), (TensorBase(9.0014), TensorBase(1858), 'Nidula niveotomentosa'), (TensorBase(8.9825), TensorBase(1193), 'Hydnellum gracilipes'), (TensorBase(8.9659), TensorBase(119), 'Amylocystis lapponica'), (TensorBase(8.9466), TensorBase(2236), 'Protostropharia alcis'), (TensorBase(8.9401), TensorBase(1364), 'Ischnoderma benzoinum'), (TensorBase(8.9177), TensorBase(2524), 'Russula sardonia'), (TensorBase(8.8932), TensorBase(1967), 'Peltigera collina'), (TensorBase(8.8822), TensorBase(2522), 'Russula sanguinaria'), (TensorBase(8.8534), TensorBase(2344), 'Punctularia atropurpurascens'), (TensorBase(8.8365), TensorBase(2213), 'Porphyrellus formosus'), (TensorBase(8.8195), TensorBase(1108), 'Gyromitra esculenta'), (TensorBase(8.7986), TensorBase(1620), 'Lycoperdon perlatum')]\n",
      "[(TensorBase(18.7226), TensorBase(1196), 'Hydnellum peckii'), (TensorBase(15.5135), TensorBase(1191), 'Hydnellum ferrugineum'), (TensorBase(12.3974), TensorBase(1184), 'Hydnellum aurantiacum'), (TensorBase(12.1931), TensorBase(1188), 'Hydnellum concrescens'), (TensorBase(11.9207), TensorBase(1198), 'Hydnellum spongiosipes'), (TensorBase(11.7509), TensorBase(2721), 'Thelephora terrestris'), (TensorBase(11.7502), TensorBase(1375), 'Laccaria amethysteo-occidentalis'), (TensorBase(11.4649), TensorBase(2545), 'Sarcodon imbricatus'), (TensorBase(11.4339), TensorBase(2028), 'Phaeolus schweinitzii'), (TensorBase(11.1890), TensorBase(1379), 'Laccaria ochropurpurea'), (TensorBase(10.7748), TensorBase(1468), 'Laetiporus persicinus'), (TensorBase(10.6190), TensorBase(2424), 'Rhodofomes cajanderi'), (TensorBase(10.5238), TensorBase(1189), 'Hydnellum cyanopodium'), (TensorBase(10.1816), TensorBase(1016), 'Ganoderma tsugae'), (TensorBase(10.1085), TensorBase(1786), 'Mycena pura'), (TensorBase(10.0361), TensorBase(1194), 'Hydnellum lundellii'), (TensorBase(9.9838), TensorBase(105), 'Amanita rubescens'), (TensorBase(9.9073), TensorBase(1967), 'Peltigera collina'), (TensorBase(9.8455), TensorBase(207), 'Aureoboletus mirabilis'), (TensorBase(9.7796), TensorBase(1652), 'Marasmius plicatulus'), (TensorBase(9.7386), TensorBase(1452), 'Lactarius subpurpureus'), (TensorBase(9.6159), TensorBase(2426), 'Rhodofomitopsis lilacinogilva'), (TensorBase(9.6025), TensorBase(1160), 'Herpothallon rubrocinctum'), (TensorBase(9.5047), TensorBase(1159), 'Hermanssonia centrifuga'), (TensorBase(9.4230), TensorBase(2682), 'Suillus spraguei'), (TensorBase(9.4147), TensorBase(1566), 'Leptoporus mollis'), (TensorBase(9.3910), TensorBase(2330), 'Pucciniastrum areolatum'), (TensorBase(9.3468), TensorBase(0), 'Abortiporus biennis'), (TensorBase(9.3340), TensorBase(759), 'Cudonia circinans'), (TensorBase(9.3192), TensorBase(815), 'Deconica montana'), (TensorBase(9.3089), TensorBase(93), 'Amanita novinupta'), (TensorBase(9.2729), TensorBase(1429), 'Lactarius paradoxus'), (TensorBase(9.2619), TensorBase(2679), 'Suillus placidus'), (TensorBase(9.2506), TensorBase(1620), 'Lycoperdon perlatum'), (TensorBase(9.1035), TensorBase(1265), 'Hygrophorus purpurascens'), (TensorBase(9.0653), TensorBase(67), 'Amanita bisporigera'), (TensorBase(9.0619), TensorBase(1382), 'Laccaria trullisata'), (TensorBase(9.0519), TensorBase(1195), 'Hydnellum mirabile'), (TensorBase(9.0473), TensorBase(1858), 'Nidula niveotomentosa'), (TensorBase(9.0426), TensorBase(1030), 'Geastrum rufescens'), (TensorBase(9.0243), TensorBase(628), 'Cortinarius anthracinus'), (TensorBase(9.0010), TensorBase(2236), 'Protostropharia alcis'), (TensorBase(8.9829), TensorBase(1193), 'Hydnellum gracilipes'), (TensorBase(8.9713), TensorBase(119), 'Amylocystis lapponica'), (TensorBase(8.9418), TensorBase(1364), 'Ischnoderma benzoinum'), (TensorBase(8.9338), TensorBase(2524), 'Russula sardonia'), (TensorBase(8.9026), TensorBase(2522), 'Russula sanguinaria'), (TensorBase(8.9010), TensorBase(1012), 'Ganoderma oregonense'), (TensorBase(8.8681), TensorBase(854), 'Dolichousnea longissima'), (TensorBase(8.8539), TensorBase(2344), 'Punctularia atropurpurascens')]\n"
     ]
    }
   ],
   "source": [
    "id = randint(0, len(img_data))\n",
    "print(id)\n",
    "print(img_tab_data.iloc[id],img_data.iloc[id])\n",
    "tab_item = img_tab_data.iloc[id]\n",
    "# with sqlite3.connect('dbs/fungid.sqlite') as conn:\n",
    "#     get_species(conn, tab_item, 100000)\n",
    "tab_probs = get_results(tab_learn, tab_item)\n",
    "print_top50(tab_probs)\n",
    "# no_lat_probs = get_results(no_lat_tab_learn, tab_item)\n",
    "# print_top50(no_lat_probs)\n",
    "img_probs = get_results(img_learn, img_data.iloc[id].img)\n",
    "print_top50(img_probs)\n",
    "print_top50(img_probs + (tab_probs * 100))"
   ]
  },
  {
   "cell_type": "code",
   "execution_count": 84,
   "id": "b7326fb6-18d3-49ed-8127-50651f17ac88",
   "metadata": {},
   "outputs": [
    {
     "data": {
      "text/plain": [
       "(2957, 2957)"
      ]
     },
     "execution_count": 84,
     "metadata": {},
     "output_type": "execute_result"
    }
   ],
   "source": [
    "len(img_learn.dls.vocab), len(tab_learn.dls.vocab)"
   ]
  },
  {
   "cell_type": "code",
   "execution_count": 34,
   "id": "8f287a0c-9604-4e9c-aff2-de690f3c5d70",
   "metadata": {},
   "outputs": [
    {
     "data": {
      "text/plain": [
       "tensor(3.0625e-07)"
      ]
     },
     "execution_count": 34,
     "metadata": {},
     "output_type": "execute_result"
    }
   ],
   "source": [
    "tab_probs.min()"
   ]
  },
  {
   "cell_type": "code",
   "execution_count": 125,
   "id": "c68e89c6-72db-4d4f-8b7d-0f855810a200",
   "metadata": {},
   "outputs": [
    {
     "data": {
      "text/html": [
       "\n",
       "<style>\n",
       "    /* Turns off some styling */\n",
       "    progress {\n",
       "        /* gets rid of default border in Firefox and Opera. */\n",
       "        border: none;\n",
       "        /* Needs to be in here for Safari polyfill so background images work as expected. */\n",
       "        background-size: auto;\n",
       "    }\n",
       "    .progress-bar-interrupted, .progress-bar-interrupted::-webkit-progress-bar {\n",
       "        background: #F44336;\n",
       "    }\n",
       "</style>\n"
      ],
      "text/plain": [
       "<IPython.core.display.HTML object>"
      ]
     },
     "metadata": {},
     "output_type": "display_data"
    },
    {
     "data": {
      "text/html": [
       "\n",
       "    <div>\n",
       "      <progress value='188416' class='' max='184593' style='width:300px; height:20px; vertical-align: middle;'></progress>\n",
       "      102.07% [188416/184593 00:00<00:00]\n",
       "    </div>\n",
       "    "
      ],
      "text/plain": [
       "<IPython.core.display.HTML object>"
      ]
     },
     "metadata": {},
     "output_type": "display_data"
    },
    {
     "data": {
      "text/html": [
       "\n",
       "<style>\n",
       "    /* Turns off some styling */\n",
       "    progress {\n",
       "        /* gets rid of default border in Firefox and Opera. */\n",
       "        border: none;\n",
       "        /* Needs to be in here for Safari polyfill so background images work as expected. */\n",
       "        background-size: auto;\n",
       "    }\n",
       "    .progress-bar-interrupted, .progress-bar-interrupted::-webkit-progress-bar {\n",
       "        background: #F44336;\n",
       "    }\n",
       "</style>\n"
      ],
      "text/plain": [
       "<IPython.core.display.HTML object>"
      ]
     },
     "metadata": {},
     "output_type": "display_data"
    },
    {
     "data": {
      "text/html": [],
      "text/plain": [
       "<IPython.core.display.HTML object>"
      ]
     },
     "metadata": {},
     "output_type": "display_data"
    },
    {
     "name": "stdout",
     "output_type": "stream",
     "text": [
      "[(TensorBase(11.1817), TensorBase(883), 'Entoloma hochstetteri'), (TensorBase(10.8582), TensorBase(902), 'Entoloma virescens'), (TensorBase(3.0313), TensorBase(864), 'Entocybe nitida'), (TensorBase(2.9586), TensorBase(876), 'Entoloma euchroum'), (TensorBase(2.6364), TensorBase(1766), 'Mycena interrupta'), (TensorBase(2.4956), TensorBase(415), 'Chlorociboria aeruginascens'), (TensorBase(2.2694), TensorBase(2713), 'Terana coerulea'), (TensorBase(1.8844), TensorBase(157), 'Arrhenia chlorocyanea'), (TensorBase(1.7535), TensorBase(329), 'Caloscypha fulgens'), (TensorBase(1.0795), TensorBase(521), 'Clavogaster virescens'), (TensorBase(0.8473), TensorBase(2612), 'Sparassis crispa'), (TensorBase(0.7782), TensorBase(770), 'Cyanoboletus pulverulentus'), (TensorBase(0.7490), TensorBase(2423), 'Rhodocollybia maculata'), (TensorBase(0.4456), TensorBase(1744), 'Mycena amicta'), (TensorBase(0.3630), TensorBase(300), 'Byssocorticium atrovirens'), (TensorBase(0.2923), TensorBase(2627), 'Stereocaulon condensatum'), (TensorBase(0.2524), TensorBase(2920), 'Xanthoria aureola'), (TensorBase(0.2132), TensorBase(819), 'Dendrostilbella smaragdina'), (TensorBase(0.0797), TensorBase(1239), 'Hygrocybe singeri'), (TensorBase(0.0286), TensorBase(1908), 'Panaeolus cyanescens'), (TensorBase(-0.0826), TensorBase(872), 'Entoloma chalybaeum'), (TensorBase(-0.1046), TensorBase(433), 'Chrysothrix caesia'), (TensorBase(-0.1701), TensorBase(1422), 'Lactarius indigo'), (TensorBase(-0.1735), TensorBase(2656), 'Stropharia aeruginosa'), (TensorBase(-0.1796), TensorBase(698), 'Cortinarius rotundisporus'), (TensorBase(-0.4143), TensorBase(2712), 'Terana caerulea'), (TensorBase(-0.6468), TensorBase(1013), 'Ganoderma pfeifferi'), (TensorBase(-0.6775), TensorBase(416), 'Chlorociboria aeruginosa'), (TensorBase(-0.7423), TensorBase(1906), 'Panaeolus antillarum'), (TensorBase(-0.8081), TensorBase(2140), 'Pilophorus acicularis'), (TensorBase(-0.8146), TensorBase(1919), 'Pannaria rubiginosa'), (TensorBase(-0.8250), TensorBase(2189), 'Podoscypha petalodes'), (TensorBase(-0.8296), TensorBase(2448), 'Rossbeevera pachydermis'), (TensorBase(-0.8433), TensorBase(1865), 'Normandina pulchella'), (TensorBase(-0.9160), TensorBase(1717), 'Mniaecia jungermanniae'), (TensorBase(-0.9292), TensorBase(2148), 'Placynthium nigrum'), (TensorBase(-0.9666), TensorBase(884), 'Entoloma incanum'), (TensorBase(-1.0148), TensorBase(604), 'Coprinopsis cinerea'), (TensorBase(-1.0712), TensorBase(2714), 'Tetrapyrgos nigripes'), (TensorBase(-1.0881), TensorBase(2283), 'Psilocybe azurescens'), (TensorBase(-1.1410), TensorBase(1769), 'Mycena lazulina'), (TensorBase(-1.1992), TensorBase(870), 'Entoloma canoconicum'), (TensorBase(-1.2665), TensorBase(2427), 'Rhodonia placenta'), (TensorBase(-1.3362), TensorBase(1450), 'Lactarius spinosulus'), (TensorBase(-1.3747), TensorBase(2859), 'Urocystis eranthidis'), (TensorBase(-1.4989), TensorBase(652), 'Cortinarius collinitus'), (TensorBase(-1.5168), TensorBase(2812), 'Tricholomopsis decora'), (TensorBase(-1.5639), TensorBase(1199), 'Hydnellum suaveolens'), (TensorBase(-1.5915), TensorBase(1217), 'Hygrocybe chromolimonea'), (TensorBase(-1.6416), TensorBase(2315), 'Puccinia monoica')]\n"
     ]
    }
   ],
   "source": [
    "url = 'https://inaturalist-open-data.s3.amazonaws.com/photos/3897840/large.jpg'\n",
    "filename = 'tmp/tmp.jpg'\n",
    "resized = 'tmp/tmp-resized.jpg'\n",
    "resize = Resize(224, ResizeMethod.Pad, pad_mode='zeros')\n",
    "download_url(url, filename)\n",
    "img = PILImage.create(filename)\n",
    "resize(img).save(resized)\n",
    "test_probs = get_results(img_learn, resized)\n",
    "print_top50(test_probs)"
   ]
  },
  {
   "cell_type": "code",
   "execution_count": null,
   "id": "2e80a746-ab7e-4601-bc17-b36b05833d26",
   "metadata": {},
   "outputs": [],
   "source": []
  }
 ],
 "metadata": {
  "kernelspec": {
   "display_name": "Python 3 (ipykernel)",
   "language": "python",
   "name": "python3"
  },
  "language_info": {
   "codemirror_mode": {
    "name": "ipython",
    "version": 3
   },
   "file_extension": ".py",
   "mimetype": "text/x-python",
   "name": "python",
   "nbconvert_exporter": "python",
   "pygments_lexer": "ipython3",
   "version": "3.10.4"
  }
 },
 "nbformat": 4,
 "nbformat_minor": 5
}
