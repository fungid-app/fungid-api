{
 "cells": [
  {
   "cell_type": "code",
   "execution_count": null,
   "id": "6afcfadf",
   "metadata": {},
   "outputs": [],
   "source": [
    "#hide\n",
    "! [ -e /content ] && pip install -Uqq fastbook\n",
    "import fastbook\n",
    "fastbook.setup_book()\n",
    "from fastbook import *\n",
    "from fastai.data.external import *\n",
    "from ipywidgets import *\n",
    "import pandas as pd\n",
    "import numpy as np\n",
    "import math\n",
    "import sqlite3\n",
    "from random import randint"
   ]
  },
  {
   "cell_type": "code",
   "execution_count": 60,
   "id": "b6278052",
   "metadata": {},
   "outputs": [
    {
     "name": "stdout",
     "output_type": "stream",
     "text": [
      "The autoreload extension is already loaded. To reload it, use:\n",
      "  %reload_ext autoreload\n"
     ]
    }
   ],
   "source": [
    "# Local stuff\n",
    "from api.helpers import *\n",
    "import api.tab_model as tm\n",
    "import api.imageclassifier as ic\n",
    "%load_ext autoreload\n",
    "%autoreload 2"
   ]
  },
  {
   "cell_type": "code",
   "execution_count": 3,
   "id": "63faf79e",
   "metadata": {},
   "outputs": [],
   "source": [
    "img_learn = ic.ImageClassifier('models/v0.4/resnet101-f7-fp16-h1.0.pkl')"
   ]
  },
  {
   "cell_type": "code",
   "execution_count": 8,
   "id": "141285b9",
   "metadata": {},
   "outputs": [],
   "source": [
    "tab_learn = tm.TabModel('dbs/fungid.sqlite')"
   ]
  },
  {
   "cell_type": "code",
   "execution_count": 25,
   "id": "953910b5",
   "metadata": {},
   "outputs": [],
   "source": [
    "file = \"dbs/training/training-data-v0-4.csv\"\n",
    "data = pd.read_csv(file)\n",
    "data = data.loc[data.imgid.notna()].copy()\n",
    "data['img'] = 'dbs/images/224/' + data.gbifid.astype(str) + '-' + data.imgid.astype(int).astype(str) + '.png'"
   ]
  },
  {
   "cell_type": "code",
   "execution_count": 13,
   "id": "aa22d7c1",
   "metadata": {},
   "outputs": [],
   "source": [
    "def get_bounding_box(lat, lon, dist):\n",
    "    latdiff = (180 / math.pi) * (dist / 6378137)\n",
    "    londiff = (180 / math.pi) * (dist / 6378137) / math.cos(lat)\n",
    "    return (lat - latdiff, lon - londiff), (lat + latdiff, lon + londiff)\n",
    "\n",
    "def get_db_species(conn, observation, dist):\n",
    "    p1, p2 = get_bounding_box(tab_item.decimallatitude, tab_item.decimallongitude, dist)\n",
    "    print(p1, p2)\n",
    "    cursor = conn.execute(\"\"\"\n",
    "    SELECT species, COUNT(*)\n",
    "    FROM validobservations v \n",
    "    JOIN trainingspecies t ON v.specieskey = t.specieskey\n",
    "    WHERE decimallatitude BETWEEN ? AND ? \n",
    "    AND decimallongitude BETWEEN ? AND ? \n",
    "    GROUP BY 1 ORDER BY 2;\"\"\",\n",
    "                 (p1[0], p2[0], p1[1], p2[1]))\n",
    "    results = cursor.fetchall()\n",
    "    print(len(results))\n",
    "    \n",
    "def get_tab_data(data):\n",
    "    tab_columns = ['kg', 'elu_class1', 'elu_class2', 'elu_class3', 'decimallatitude', 'decimallongitude', 'species', 'normalizedmonth', 'season']\n",
    "    return data[tab_columns].copy()\n",
    "\n",
    "def get_results(learner, data):\n",
    "    row, clas, probs = learner.predict(data)\n",
    "    return probs\n",
    "                 \n"
   ]
  },
  {
   "cell_type": "code",
   "execution_count": 19,
   "id": "71e7e97b",
   "metadata": {},
   "outputs": [],
   "source": [
    "id = 1647265\n",
    "tab_item = data.iloc[id]\n",
    "\n",
    "# lh = tab_learn.get_predictions(tab_item, vocab_df)\n",
    "# print(lh)"
   ]
  },
  {
   "cell_type": "code",
   "execution_count": 76,
   "id": "61590e5a",
   "metadata": {},
   "outputs": [
    {
     "data": {
      "text/html": [
       "\n",
       "<style>\n",
       "    /* Turns off some styling */\n",
       "    progress {\n",
       "        /* gets rid of default border in Firefox and Opera. */\n",
       "        border: none;\n",
       "        /* Needs to be in here for Safari polyfill so background images work as expected. */\n",
       "        background-size: auto;\n",
       "    }\n",
       "    .progress-bar-interrupted, .progress-bar-interrupted::-webkit-progress-bar {\n",
       "        background: #F44336;\n",
       "    }\n",
       "</style>\n"
      ],
      "text/plain": [
       "<IPython.core.display.HTML object>"
      ]
     },
     "metadata": {},
     "output_type": "display_data"
    },
    {
     "data": {
      "text/html": [],
      "text/plain": [
       "<IPython.core.display.HTML object>"
      ]
     },
     "metadata": {},
     "output_type": "display_data"
    },
    {
     "data": {
      "text/plain": [
       "pandas.core.series.Series"
      ]
     },
     "execution_count": 76,
     "metadata": {},
     "output_type": "execute_result"
    }
   ],
   "source": [
    "\n",
    "id = 164726\n",
    "item = data.iloc[id]\n",
    "obs = obs_from_series(item)\n",
    "\n",
    "img_preds = img_learn.get_predictions(obs.image)\n",
    "tab_preds = tab_learn.get_predictions(obs)\n",
    "\n",
    "type(img_preds.img_prob * tab_preds.likelihood)"
   ]
  },
  {
   "cell_type": "code",
   "execution_count": 68,
   "id": "5b2a7bf8",
   "metadata": {},
   "outputs": [
    {
     "name": "stdout",
     "output_type": "stream",
     "text": [
      "192201\n",
      "gbifid                                   3070681339\n",
      "_family                             Psathyrellaceae\n",
      "genus                                   Coprinopsis\n",
      "species                    Coprinopsis atramentaria\n",
      "familykey                                    4184.0\n",
      "genuskey                                    2534316\n",
      "specieskey                                  5242740\n",
      "eventyear                                      2021\n",
      "eventmonth                                        3\n",
      "eventday                                         29\n",
      "eventdate                       2021-03-29 18:11:07\n",
      "decimallatitude                           39.183645\n",
      "decimallongitude                         -77.233742\n",
      "kg                                               25\n",
      "elu                                             222\n",
      "elu_class1                 Artificial or Urban Area\n",
      "elu_class2                                      NaN\n",
      "elu_class3                                      NaN\n",
      "normalizedmonth                                   4\n",
      "season                                       spring\n",
      "imgid                                           2.0\n",
      "img                 dbs/images/224/3070681339-2.png\n",
      "Name: 537190, dtype: object\n",
      "(likelihood    4.0\n",
      "dtype: float64, likelihood    0.007439\n",
      "dtype: float64, likelihood    1.188708\n",
      "Name: Bulgaria inquinans, dtype: float64)\n"
     ]
    }
   ],
   "source": [
    "def compare(probs1, probs2, vals2, num):\n",
    "    values1, indices1 = torch.topk(probs1, num)\n",
    "    idx2 = probs2.argsort(descending=True).argsort()\n",
    "    values1 = values1.cpu().detach().numpy()\n",
    "    probs2 = probs2.cpu().detach().numpy()\n",
    "    return pd.DataFrame(\n",
    "        zip(\n",
    "            [img_learn.dls.vocab[idx] for idx in indices1], \n",
    "            values1, \n",
    "            [idx2[i].item() for i in indices1], \n",
    "            [probs2[i] for i in indices1],\n",
    "            [vals2[i].item() for i in indices1]\n",
    "        )\n",
    "    )\n",
    "\n",
    "# 124978\n",
    "# 2119839 - Bad\n",
    "# 1292929 - Negative nubmers = \n",
    "# 454673 - Dropped to 10 from 1\n",
    "# 1068383 - Artificial fucks with stuff. \n",
    "# 193834 & 2073568- Totall throws the data into mayhem \n",
    "# 1370890 - Ignore Surface Water in ELU?\n",
    "# Need to only pull 4-5 images per obs. \n",
    "\n",
    "id = randint(0, len(img_data))\n",
    "print(id)\n",
    "item = data.iloc[id]\n",
    "print(item)\n",
    "\n",
    "obs = obs_from_series(item)\n",
    "\n",
    "tab_preds = tab_learn.get_predictions(obs)\n",
    "print((tab_preds.max(), tab_preds.min(), tab_preds.loc[tab_item.species]))\n",
    "img_preds = img_learn.get_predictions(obs.image)\n",
    "compare(img_preds.img_prob, img_preds.img_prob * tab_preds.likelihood, lh_tensor, 50)\n",
    "# img_probs.argsort(descending=True)"
   ]
  },
  {
   "cell_type": "code",
   "execution_count": 274,
   "id": "5db26886",
   "metadata": {},
   "outputs": [
    {
     "data": {
      "text/plain": [
       "species\n",
       "Abortiporus biennis      -0.899631\n",
       "Acanthophysium oakesii   -3.042892\n",
       "Acarospora fuscata       -4.228813\n",
       "Acarospora moenium       -1.611503\n",
       "Acarospora sinopica      -4.377919\n",
       "                            ...   \n",
       "Xylodon flaviporus       -2.750198\n",
       "Xylodon radula           -0.861849\n",
       "Xylodon sambuci          -1.909232\n",
       "Xylodon subtropicus      -2.787384\n",
       "Xylopsora friesii        -3.136505\n",
       "Name: img_prob, Length: 2957, dtype: float32"
      ]
     },
     "execution_count": 274,
     "metadata": {},
     "output_type": "execute_result"
    }
   ],
   "source": [
    "df = pd.DataFrame(img_learn.dls.vocab, columns=[\"species\"]).set_index(\"species\")\n",
    "df[\"img_prob\"] = img_probs.numpy()\n",
    "df.img_prob"
   ]
  },
  {
   "cell_type": "code",
   "execution_count": 191,
   "id": "f12429bc",
   "metadata": {},
   "outputs": [
    {
     "data": {
      "text/plain": [
       "likelihood    4.0\n",
       "Name: Clitocybe rivulosa, dtype: float64"
      ]
     },
     "execution_count": 191,
     "metadata": {},
     "output_type": "execute_result"
    }
   ],
   "source": [
    "lh.loc['Clitocybe rivulosa']"
   ]
  },
  {
   "cell_type": "code",
   "execution_count": 84,
   "id": "24d22800",
   "metadata": {},
   "outputs": [
    {
     "data": {
      "text/plain": [
       "(2957, 2957)"
      ]
     },
     "execution_count": 84,
     "metadata": {},
     "output_type": "execute_result"
    }
   ],
   "source": [
    "len(img_learn.dls.vocab), len(tab_learn.dls.vocab)"
   ]
  },
  {
   "cell_type": "code",
   "execution_count": 34,
   "id": "8d3eb01f",
   "metadata": {},
   "outputs": [
    {
     "data": {
      "text/plain": [
       "tensor(3.0625e-07)"
      ]
     },
     "execution_count": 34,
     "metadata": {},
     "output_type": "execute_result"
    }
   ],
   "source": [
    "tab_probs.min()"
   ]
  },
  {
   "cell_type": "code",
   "execution_count": 125,
   "id": "ffe39e2b",
   "metadata": {},
   "outputs": [
    {
     "data": {
      "text/html": [
       "\n",
       "<style>\n",
       "    /* Turns off some styling */\n",
       "    progress {\n",
       "        /* gets rid of default border in Firefox and Opera. */\n",
       "        border: none;\n",
       "        /* Needs to be in here for Safari polyfill so background images work as expected. */\n",
       "        background-size: auto;\n",
       "    }\n",
       "    .progress-bar-interrupted, .progress-bar-interrupted::-webkit-progress-bar {\n",
       "        background: #F44336;\n",
       "    }\n",
       "</style>\n"
      ],
      "text/plain": [
       "<IPython.core.display.HTML object>"
      ]
     },
     "metadata": {},
     "output_type": "display_data"
    },
    {
     "data": {
      "text/html": [
       "\n",
       "    <div>\n",
       "      <progress value='188416' class='' max='184593' style='width:300px; height:20px; vertical-align: middle;'></progress>\n",
       "      102.07% [188416/184593 00:00<00:00]\n",
       "    </div>\n",
       "    "
      ],
      "text/plain": [
       "<IPython.core.display.HTML object>"
      ]
     },
     "metadata": {},
     "output_type": "display_data"
    },
    {
     "data": {
      "text/html": [
       "\n",
       "<style>\n",
       "    /* Turns off some styling */\n",
       "    progress {\n",
       "        /* gets rid of default border in Firefox and Opera. */\n",
       "        border: none;\n",
       "        /* Needs to be in here for Safari polyfill so background images work as expected. */\n",
       "        background-size: auto;\n",
       "    }\n",
       "    .progress-bar-interrupted, .progress-bar-interrupted::-webkit-progress-bar {\n",
       "        background: #F44336;\n",
       "    }\n",
       "</style>\n"
      ],
      "text/plain": [
       "<IPython.core.display.HTML object>"
      ]
     },
     "metadata": {},
     "output_type": "display_data"
    },
    {
     "data": {
      "text/html": [],
      "text/plain": [
       "<IPython.core.display.HTML object>"
      ]
     },
     "metadata": {},
     "output_type": "display_data"
    },
    {
     "name": "stdout",
     "output_type": "stream",
     "text": [
      "[(TensorBase(11.1817), TensorBase(883), 'Entoloma hochstetteri'), (TensorBase(10.8582), TensorBase(902), 'Entoloma virescens'), (TensorBase(3.0313), TensorBase(864), 'Entocybe nitida'), (TensorBase(2.9586), TensorBase(876), 'Entoloma euchroum'), (TensorBase(2.6364), TensorBase(1766), 'Mycena interrupta'), (TensorBase(2.4956), TensorBase(415), 'Chlorociboria aeruginascens'), (TensorBase(2.2694), TensorBase(2713), 'Terana coerulea'), (TensorBase(1.8844), TensorBase(157), 'Arrhenia chlorocyanea'), (TensorBase(1.7535), TensorBase(329), 'Caloscypha fulgens'), (TensorBase(1.0795), TensorBase(521), 'Clavogaster virescens'), (TensorBase(0.8473), TensorBase(2612), 'Sparassis crispa'), (TensorBase(0.7782), TensorBase(770), 'Cyanoboletus pulverulentus'), (TensorBase(0.7490), TensorBase(2423), 'Rhodocollybia maculata'), (TensorBase(0.4456), TensorBase(1744), 'Mycena amicta'), (TensorBase(0.3630), TensorBase(300), 'Byssocorticium atrovirens'), (TensorBase(0.2923), TensorBase(2627), 'Stereocaulon condensatum'), (TensorBase(0.2524), TensorBase(2920), 'Xanthoria aureola'), (TensorBase(0.2132), TensorBase(819), 'Dendrostilbella smaragdina'), (TensorBase(0.0797), TensorBase(1239), 'Hygrocybe singeri'), (TensorBase(0.0286), TensorBase(1908), 'Panaeolus cyanescens'), (TensorBase(-0.0826), TensorBase(872), 'Entoloma chalybaeum'), (TensorBase(-0.1046), TensorBase(433), 'Chrysothrix caesia'), (TensorBase(-0.1701), TensorBase(1422), 'Lactarius indigo'), (TensorBase(-0.1735), TensorBase(2656), 'Stropharia aeruginosa'), (TensorBase(-0.1796), TensorBase(698), 'Cortinarius rotundisporus'), (TensorBase(-0.4143), TensorBase(2712), 'Terana caerulea'), (TensorBase(-0.6468), TensorBase(1013), 'Ganoderma pfeifferi'), (TensorBase(-0.6775), TensorBase(416), 'Chlorociboria aeruginosa'), (TensorBase(-0.7423), TensorBase(1906), 'Panaeolus antillarum'), (TensorBase(-0.8081), TensorBase(2140), 'Pilophorus acicularis'), (TensorBase(-0.8146), TensorBase(1919), 'Pannaria rubiginosa'), (TensorBase(-0.8250), TensorBase(2189), 'Podoscypha petalodes'), (TensorBase(-0.8296), TensorBase(2448), 'Rossbeevera pachydermis'), (TensorBase(-0.8433), TensorBase(1865), 'Normandina pulchella'), (TensorBase(-0.9160), TensorBase(1717), 'Mniaecia jungermanniae'), (TensorBase(-0.9292), TensorBase(2148), 'Placynthium nigrum'), (TensorBase(-0.9666), TensorBase(884), 'Entoloma incanum'), (TensorBase(-1.0148), TensorBase(604), 'Coprinopsis cinerea'), (TensorBase(-1.0712), TensorBase(2714), 'Tetrapyrgos nigripes'), (TensorBase(-1.0881), TensorBase(2283), 'Psilocybe azurescens'), (TensorBase(-1.1410), TensorBase(1769), 'Mycena lazulina'), (TensorBase(-1.1992), TensorBase(870), 'Entoloma canoconicum'), (TensorBase(-1.2665), TensorBase(2427), 'Rhodonia placenta'), (TensorBase(-1.3362), TensorBase(1450), 'Lactarius spinosulus'), (TensorBase(-1.3747), TensorBase(2859), 'Urocystis eranthidis'), (TensorBase(-1.4989), TensorBase(652), 'Cortinarius collinitus'), (TensorBase(-1.5168), TensorBase(2812), 'Tricholomopsis decora'), (TensorBase(-1.5639), TensorBase(1199), 'Hydnellum suaveolens'), (TensorBase(-1.5915), TensorBase(1217), 'Hygrocybe chromolimonea'), (TensorBase(-1.6416), TensorBase(2315), 'Puccinia monoica')]\n"
     ]
    }
   ],
   "source": [
    "url = 'https://inaturalist-open-data.s3.amazonaws.com/photos/3897840/large.jpg'\n",
    "filename = 'tmp/tmp.jpg'\n",
    "resized = 'tmp/tmp-resized.jpg'\n",
    "resize = Resize(224, ResizeMethod.Pad, pad_mode='zeros')\n",
    "download_url(url, filename)\n",
    "img = PILImage.create(filename)\n",
    "resize(img).save(resized)\n",
    "test_probs = get_results(img_learn, resized)\n",
    "print_top50(test_probs)"
   ]
  },
  {
   "cell_type": "code",
   "execution_count": null,
   "id": "84ceae3d",
   "metadata": {},
   "outputs": [],
   "source": []
  }
 ],
 "metadata": {
  "kernelspec": {
   "display_name": "Python 3 (ipykernel)",
   "language": "python",
   "name": "python3"
  },
  "language_info": {
   "codemirror_mode": {
    "name": "ipython",
    "version": 3
   },
   "file_extension": ".py",
   "mimetype": "text/x-python",
   "name": "python",
   "nbconvert_exporter": "python",
   "pygments_lexer": "ipython3",
   "version": "3.9.12"
  }
 },
 "nbformat": 4,
 "nbformat_minor": 5
}
